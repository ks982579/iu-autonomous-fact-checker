{
 "cells": [
  {
   "cell_type": "markdown",
   "id": "cb1b0d8b",
   "metadata": {},
   "source": [
    "This file is to preserve the responses in memory before deciding how to store and handle them"
   ]
  },
  {
   "cell_type": "code",
   "execution_count": 1,
   "id": "9a9edf03",
   "metadata": {},
   "outputs": [],
   "source": [
    "import sqlite3\n",
    "import os\n",
    "from pathlib import Path\n",
    "import requests #https://requests.readthedocs.io/en/latest/\n",
    "from bs4 import BeautifulSoup\n",
    "import time\n",
    "import json\n",
    "from rag_eng import *"
   ]
  },
  {
   "cell_type": "code",
   "execution_count": 2,
   "id": "a04a858c",
   "metadata": {},
   "outputs": [],
   "source": [
    "read_dot_env()"
   ]
  },
  {
   "cell_type": "code",
   "execution_count": 3,
   "id": "94623491",
   "metadata": {},
   "outputs": [
    {
     "name": "stdout",
     "output_type": "stream",
     "text": [
      "<Response [200]>\n"
     ]
    }
   ],
   "source": [
    "api_sources = get_sources_list()"
   ]
  },
  {
   "cell_type": "code",
   "execution_count": 4,
   "id": "fd89e605",
   "metadata": {},
   "outputs": [
    {
     "data": {
      "text/plain": [
       "127"
      ]
     },
     "execution_count": 4,
     "metadata": {},
     "output_type": "execute_result"
    }
   ],
   "source": [
    "slist = api_sources.json()\n",
    "len(slist.get('sources'))"
   ]
  },
  {
   "cell_type": "code",
   "execution_count": 5,
   "id": "4755e28f",
   "metadata": {},
   "outputs": [
    {
     "name": "stdout",
     "output_type": "stream",
     "text": [
      "Query String: ?q=('Trump AND big AND beautiful AND bill',)\n",
      "<Response [200]>\n"
     ]
    },
    {
     "ename": "NameError",
     "evalue": "name 'NewsApiJsonResponse' is not defined",
     "output_type": "error",
     "traceback": [
      "\u001b[31m---------------------------------------------------------------------------\u001b[39m",
      "\u001b[31mNameError\u001b[39m                                 Traceback (most recent call last)",
      "\u001b[36mCell\u001b[39m\u001b[36m \u001b[39m\u001b[32mIn[5]\u001b[39m\u001b[32m, line 4\u001b[39m\n\u001b[32m      2\u001b[39m articles = []\n\u001b[32m      3\u001b[39m \u001b[38;5;28;01mfor\u001b[39;00m article \u001b[38;5;129;01min\u001b[39;00m news.json().get(\u001b[33m\"\u001b[39m\u001b[33marticles\u001b[39m\u001b[33m\"\u001b[39m):\n\u001b[32m----> \u001b[39m\u001b[32m4\u001b[39m     articles.append(\u001b[43mNewsApiJsonResponse\u001b[49m(article))\n",
      "\u001b[31mNameError\u001b[39m: name 'NewsApiJsonResponse' is not defined"
     ]
    }
   ],
   "source": [
    "news = get_news([\"Trump\", \"big\", \"beautiful\", \"bill\"])\n",
    "articles = []\n",
    "for article in news.json().get(\"articles\"):\n",
    "    articles.append(NewsApiJsonResponse(article))"
   ]
  },
  {
   "cell_type": "code",
   "execution_count": null,
   "id": "1dfd12ec",
   "metadata": {},
   "outputs": [],
   "source": [
    "for article in articles:\n",
    "    print(article.content)"
   ]
  },
  {
   "cell_type": "code",
   "execution_count": null,
   "id": "7f73231f",
   "metadata": {},
   "outputs": [],
   "source": [
    "# Print all data\n",
    "for article in articles:\n",
    "    print(article)"
   ]
  },
  {
   "cell_type": "code",
   "execution_count": null,
   "id": "7c3a3ca3",
   "metadata": {},
   "outputs": [],
   "source": []
  },
  {
   "cell_type": "code",
   "execution_count": null,
   "id": "d92f4ce0",
   "metadata": {},
   "outputs": [],
   "source": [
    "res = requests.get(articles[0].url)"
   ]
  },
  {
   "cell_type": "code",
   "execution_count": null,
   "id": "01bd0a90",
   "metadata": {},
   "outputs": [],
   "source": [
    "print(res)\n",
    "print(articles[0].url)\n",
    "print(articles[0])"
   ]
  },
  {
   "cell_type": "code",
   "execution_count": null,
   "id": "3c6f3a0e",
   "metadata": {},
   "outputs": [],
   "source": [
    "print(dir(res))"
   ]
  },
  {
   "cell_type": "code",
   "execution_count": null,
   "id": "4a6c82eb",
   "metadata": {},
   "outputs": [],
   "source": [
    "print(res.text)"
   ]
  },
  {
   "cell_type": "code",
   "execution_count": null,
   "id": "173ae146",
   "metadata": {},
   "outputs": [],
   "source": [
    "soup = BeautifulSoup(res.content, 'html.parser')"
   ]
  },
  {
   "cell_type": "code",
   "execution_count": null,
   "id": "1454180b",
   "metadata": {},
   "outputs": [],
   "source": [
    "print(type(soup))"
   ]
  },
  {
   "cell_type": "code",
   "execution_count": null,
   "id": "a6314f02",
   "metadata": {},
   "outputs": [],
   "source": [
    "soupbody = soup.body"
   ]
  },
  {
   "cell_type": "code",
   "execution_count": null,
   "id": "6da1a045",
   "metadata": {},
   "outputs": [],
   "source": [
    "for tag in soupbody.find_all(\"script\"):\n",
    "    tag.decompose()\n",
    "print(soupbody)"
   ]
  },
  {
   "cell_type": "code",
   "execution_count": null,
   "id": "9a0b8d9a",
   "metadata": {},
   "outputs": [],
   "source": [
    "content = soupbody.get_text()"
   ]
  },
  {
   "cell_type": "code",
   "execution_count": null,
   "id": "61a59218",
   "metadata": {},
   "outputs": [],
   "source": [
    "content2 = ' '.join(content.split())"
   ]
  },
  {
   "cell_type": "code",
   "execution_count": null,
   "id": "ebfa1cf1",
   "metadata": {},
   "outputs": [],
   "source": [
    "content2"
   ]
  },
  {
   "cell_type": "code",
   "execution_count": 2,
   "id": "265df490",
   "metadata": {},
   "outputs": [
    {
     "name": "stdout",
     "output_type": "stream",
     "text": [
      "Searching GDELT for: 'Trump+big+beautiful+bill'\n"
     ]
    }
   ],
   "source": [
    "# news = get_news([\"Trump\", \"big\", \"beautiful\", \"bill\"])\n",
    "articles = []\n",
    "gdelt = GDELTClient()\n",
    "res = gdelt.search_news([\"Trump\", \"big\", \"beautiful\", \"bill\"])\n"
   ]
  },
  {
   "cell_type": "code",
   "execution_count": 5,
   "id": "bd65b015",
   "metadata": {},
   "outputs": [
    {
     "name": "stdout",
     "output_type": "stream",
     "text": [
      "{}\n"
     ]
    }
   ],
   "source": [
    "print(res.json())"
   ]
  },
  {
   "cell_type": "code",
   "execution_count": 22,
   "id": "917f5629",
   "metadata": {},
   "outputs": [],
   "source": [
    "base_url = \"https://api.gdeltproject.org/api/v2/doc/doc\"\n",
    "keywords = [\"Trump\", \"big\", \"beautiful\", \"bill\"]\n",
    "headers = {\n",
    "    \"User-Agent\": \"Mozilla/5.0 (X11; Linux x86_64) AppleWebKit/537.36 (KHTML, like Gecko) Chrome/138.0.0.0 Safari/537.36\",\n",
    "    \"Accept\": \"*/*\",\n",
    "}\n",
    "query = \"+\".join(keywords)\n",
    "params = {\n",
    "    'query': keywords,\n",
    "    'mode': 'artlist',\n",
    "    'maxrecords': min(5, 250),  # GDELT max is 250\n",
    "    'format': 'json',\n",
    "    # 'startdatetime': start_date + \"000000\",\n",
    "    # 'enddatetime': end_date + \"235959\",\n",
    "    'sort': \"hybridrel\"\n",
    "}\n",
    "params['sourcelang'] = 'english'\n",
    "response = requests.get(base_url, params=params, timeout=15)\n"
   ]
  },
  {
   "cell_type": "code",
   "execution_count": 23,
   "id": "fbc91e4c",
   "metadata": {},
   "outputs": [
    {
     "data": {
      "text/plain": [
       "<Response [200]>"
      ]
     },
     "execution_count": 23,
     "metadata": {},
     "output_type": "execute_result"
    }
   ],
   "source": [
    "response"
   ]
  },
  {
   "cell_type": "code",
   "execution_count": 24,
   "id": "16feca3c",
   "metadata": {},
   "outputs": [
    {
     "data": {
      "text/plain": [
       "{'articles': [{'url': 'https://www.merdeka.com/politik/istana-pastikan-perpres-baru-segera-terbit-usai-ruu-haji-disahkan-apa-saja-poin-krusialnya-458303-mvk.html',\n",
       "   'url_mobile': 'https://www.merdeka.com/amp/politik/istana-pastikan-perpres-baru-segera-terbit-usai-ruu-haji-disahkan-apa-saja-poin-krusialnya-458303-mvk.html',\n",
       "   'title': 'Istana Pastikan Perpres Baru Segera Terbit Usai RUU Haji Disahkan , Apa Saja Poin Krusialnya ? ',\n",
       "   'seendate': '20250824T063000Z',\n",
       "   'socialimage': 'https://cdns.klimg.com/mav-prod-resized/1200x630/ori/image_bank/2025/08/24/130048.653-istana-pastikan-perpres-baru-segera-terbit-usai-ruu-haji-disahkan-apa-saja-poin-krusialnya-1.jpg',\n",
       "   'domain': 'merdeka.com',\n",
       "   'language': 'Indonesian',\n",
       "   'sourcecountry': 'Indonesia'},\n",
       "  {'url': 'https://www.merdeka.com/politik/fakta-unik-ruu-haji-petugas-embarkasi-tak-harus-muslim-istana-harap-pelaksanaan-haji-makin-baik-458281-mvk.html',\n",
       "   'url_mobile': 'https://www.merdeka.com/amp/politik/fakta-unik-ruu-haji-petugas-embarkasi-tak-harus-muslim-istana-harap-pelaksanaan-haji-makin-baik-458281-mvk.html',\n",
       "   'title': 'Fakta Unik RUU Haji : Petugas Embarkasi Tak Harus Muslim , Istana Harap Pelaksanaan Haji Makin Baik',\n",
       "   'seendate': '20250824T063000Z',\n",
       "   'socialimage': 'https://cdns.klimg.com/mav-prod-resized/1200x630/ori/image_bank/2025/08/24/120034.084-fakta-unik-ruu-haji-petugas-embarkasi-tak-harus-muslim-istana-harap-pelaksanaan-haji-makin-baik-1.jpg',\n",
       "   'domain': 'merdeka.com',\n",
       "   'language': 'Indonesian',\n",
       "   'sourcecountry': 'Indonesia'},\n",
       "  {'url': 'https://www.antaranews.com/berita/5060197/istana-sebut-perpres-baru-segera-dibuat-jika-ruu-haji-disahkan-jadi-uu',\n",
       "   'url_mobile': 'https://m.antaranews.com/amp/berita/5060197/istana-sebut-perpres-baru-segera-dibuat-jika-ruu-haji-disahkan-jadi-uu',\n",
       "   'title': 'Istana sebut perpres baru segera dibuat jika RUU Haji disahkan jadi UU',\n",
       "   'seendate': '20250824T060000Z',\n",
       "   'socialimage': 'https://cdn.antaranews.com/cache/1200x800/2025/08/24/ajang-merdeka-run-2025-2606241.jpg',\n",
       "   'domain': 'antaranews.com',\n",
       "   'language': 'Indonesian',\n",
       "   'sourcecountry': 'Indonesia'},\n",
       "  {'url': 'https://www.maalaimalar.com:443/news/national/pm-said-no-to-protection-for-him-in-bill-to-sack-ministers-kiren-rijiju-785617',\n",
       "   'url_mobile': 'https://www.maalaimalar.com/amp/news/national/pm-said-no-to-protection-for-him-in-bill-to-sack-ministers-kiren-rijiju-785617',\n",
       "   'title': 'பதவி பறிப்பு மசோதா : பிரதமர் பெயர் இடம்பெறாததால் மோடி கடிந்து கொண்டார் - கிரண் ரிஜிஜு / PM Said No To Protection For Him In Bill To Sack Ministers Kiren Rijiju',\n",
       "   'seendate': '20250824T054500Z',\n",
       "   'socialimage': 'https://media.maalaimalar.com/h-upload/2025/08/24/17607745-pmmodi0001.jpg',\n",
       "   'domain': 'maalaimalar.com',\n",
       "   'language': 'Tamil',\n",
       "   'sourcecountry': 'India'},\n",
       "  {'url': 'https://www.loksatta.com/desh-videsh/kiren-rijiju-says-narendra-modi-refused-exception-for-pm-in-bills-for-removal-of-ministers-asc-95-5327162/',\n",
       "   'url_mobile': 'https://www.loksatta.com/desh-videsh/kiren-rijiju-says-narendra-modi-refused-exception-for-pm-in-bills-for-removal-of-ministers-asc-95-5327162/lite/',\n",
       "   'title': '  पदावरून हटवणाऱ्या विधेयकात पंतप्रधानांना सूट देण्याबाबत मोदींचं काय म्हणणं होतं ? रिजिजूंनी सांगितली कॅबिनेटमधील खलबतं',\n",
       "   'seendate': '20250824T063000Z',\n",
       "   'socialimage': 'https://images.loksattaimg.com/2025/08/kiren-rijiju-narendra-modi-PTI.jpg',\n",
       "   'domain': 'loksatta.com',\n",
       "   'language': 'Marathi',\n",
       "   'sourcecountry': 'India'}]}"
      ]
     },
     "execution_count": 24,
     "metadata": {},
     "output_type": "execute_result"
    }
   ],
   "source": [
    "response.json()"
   ]
  },
  {
   "cell_type": "code",
   "execution_count": 15,
   "id": "121e5124",
   "metadata": {},
   "outputs": [
    {
     "data": {
      "text/plain": [
       "['__attrs__',\n",
       " '__bool__',\n",
       " '__class__',\n",
       " '__delattr__',\n",
       " '__dict__',\n",
       " '__dir__',\n",
       " '__doc__',\n",
       " '__enter__',\n",
       " '__eq__',\n",
       " '__exit__',\n",
       " '__format__',\n",
       " '__ge__',\n",
       " '__getattribute__',\n",
       " '__getstate__',\n",
       " '__gt__',\n",
       " '__hash__',\n",
       " '__init__',\n",
       " '__init_subclass__',\n",
       " '__iter__',\n",
       " '__le__',\n",
       " '__lt__',\n",
       " '__module__',\n",
       " '__ne__',\n",
       " '__new__',\n",
       " '__nonzero__',\n",
       " '__reduce__',\n",
       " '__reduce_ex__',\n",
       " '__repr__',\n",
       " '__setattr__',\n",
       " '__setstate__',\n",
       " '__sizeof__',\n",
       " '__str__',\n",
       " '__subclasshook__',\n",
       " '__weakref__',\n",
       " '_content',\n",
       " '_content_consumed',\n",
       " '_next',\n",
       " 'apparent_encoding',\n",
       " 'close',\n",
       " 'connection',\n",
       " 'content',\n",
       " 'cookies',\n",
       " 'elapsed',\n",
       " 'encoding',\n",
       " 'headers',\n",
       " 'history',\n",
       " 'is_permanent_redirect',\n",
       " 'is_redirect',\n",
       " 'iter_content',\n",
       " 'iter_lines',\n",
       " 'json',\n",
       " 'links',\n",
       " 'next',\n",
       " 'ok',\n",
       " 'raise_for_status',\n",
       " 'raw',\n",
       " 'reason',\n",
       " 'request',\n",
       " 'status_code',\n",
       " 'text',\n",
       " 'url']"
      ]
     },
     "execution_count": 15,
     "metadata": {},
     "output_type": "execute_result"
    }
   ],
   "source": [
    "dir(response)"
   ]
  },
  {
   "cell_type": "code",
   "execution_count": 21,
   "id": "a80b5f44",
   "metadata": {},
   "outputs": [
    {
     "data": {
      "text/plain": [
       "'https://api.gdeltproject.org/api/v2/doc/doc?query=Trump%2Bbig%2Bbeautiful%2Bbill&mode=artlist&maxrecords=5&format=json&sort=hybridrel&sourcelang=english'"
      ]
     },
     "execution_count": 21,
     "metadata": {},
     "output_type": "execute_result"
    }
   ],
   "source": [
    "response.url"
   ]
  },
  {
   "cell_type": "code",
   "execution_count": null,
   "id": "8567c4dd",
   "metadata": {},
   "outputs": [],
   "source": []
  }
 ],
 "metadata": {
  "kernelspec": {
   "display_name": ".venv",
   "language": "python",
   "name": "python3"
  },
  "language_info": {
   "codemirror_mode": {
    "name": "ipython",
    "version": 3
   },
   "file_extension": ".py",
   "mimetype": "text/x-python",
   "name": "python",
   "nbconvert_exporter": "python",
   "pygments_lexer": "ipython3",
   "version": "3.11.13"
  }
 },
 "nbformat": 4,
 "nbformat_minor": 5
}
