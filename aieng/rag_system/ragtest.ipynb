{
 "cells": [
  {
   "cell_type": "markdown",
   "id": "cb1b0d8b",
   "metadata": {},
   "source": [
    "This file is to preserve the responses in memory before deciding how to store and handle them"
   ]
  },
  {
   "cell_type": "code",
   "execution_count": 1,
   "id": "9a9edf03",
   "metadata": {},
   "outputs": [],
   "source": [
    "import sqlite3\n",
    "import os\n",
    "from pathlib import Path\n",
    "import requests #https://requests.readthedocs.io/en/latest/\n",
    "from bs4 import BeautifulSoup\n",
    "import time\n",
    "import json\n",
    "from rag_eng import *"
   ]
  },
  {
   "cell_type": "code",
   "execution_count": 3,
   "id": "a04a858c",
   "metadata": {},
   "outputs": [],
   "source": [
    "read_dot_env()"
   ]
  },
  {
   "cell_type": "code",
   "execution_count": null,
   "id": "94623491",
   "metadata": {},
   "outputs": [],
   "source": [
    "api_sources = get_sources_list()"
   ]
  },
  {
   "cell_type": "code",
   "execution_count": null,
   "id": "fd89e605",
   "metadata": {},
   "outputs": [],
   "source": [
    "slist = api_sources.json()\n",
    "len(slist.get('sources'))"
   ]
  },
  {
   "cell_type": "code",
   "execution_count": null,
   "id": "4755e28f",
   "metadata": {},
   "outputs": [],
   "source": [
    "news = get_news([\"Trump\", \"big\", \"beautiful\", \"bill\"])\n",
    "articles = []\n",
    "for article in news.json().get(\"articles\"):\n",
    "    articles.append(NewsApiJsonResponse(article))"
   ]
  },
  {
   "cell_type": "code",
   "execution_count": null,
   "id": "1dfd12ec",
   "metadata": {},
   "outputs": [],
   "source": [
    "for article in articles:\n",
    "    print(article.content)"
   ]
  },
  {
   "cell_type": "code",
   "execution_count": null,
   "id": "7f73231f",
   "metadata": {},
   "outputs": [],
   "source": [
    "# Print all data\n",
    "for article in articles:\n",
    "    print(article)"
   ]
  },
  {
   "cell_type": "code",
   "execution_count": null,
   "id": "7c3a3ca3",
   "metadata": {},
   "outputs": [],
   "source": []
  },
  {
   "cell_type": "code",
   "execution_count": null,
   "id": "d92f4ce0",
   "metadata": {},
   "outputs": [],
   "source": [
    "res = requests.get(articles[0].url)"
   ]
  },
  {
   "cell_type": "code",
   "execution_count": null,
   "id": "01bd0a90",
   "metadata": {},
   "outputs": [],
   "source": [
    "print(res)\n",
    "print(articles[0].url)\n",
    "print(articles[0])"
   ]
  },
  {
   "cell_type": "code",
   "execution_count": null,
   "id": "3c6f3a0e",
   "metadata": {},
   "outputs": [],
   "source": [
    "print(dir(res))"
   ]
  },
  {
   "cell_type": "code",
   "execution_count": null,
   "id": "4a6c82eb",
   "metadata": {},
   "outputs": [],
   "source": [
    "print(res.text)"
   ]
  },
  {
   "cell_type": "code",
   "execution_count": null,
   "id": "173ae146",
   "metadata": {},
   "outputs": [],
   "source": [
    "soup = BeautifulSoup(res.content, 'html.parser')"
   ]
  },
  {
   "cell_type": "code",
   "execution_count": null,
   "id": "1454180b",
   "metadata": {},
   "outputs": [],
   "source": [
    "print(type(soup))"
   ]
  },
  {
   "cell_type": "code",
   "execution_count": null,
   "id": "a6314f02",
   "metadata": {},
   "outputs": [],
   "source": [
    "soupbody = soup.body"
   ]
  },
  {
   "cell_type": "code",
   "execution_count": null,
   "id": "6da1a045",
   "metadata": {},
   "outputs": [],
   "source": [
    "for tag in soupbody.find_all(\"script\"):\n",
    "    tag.decompose()\n",
    "print(soupbody)"
   ]
  },
  {
   "cell_type": "code",
   "execution_count": null,
   "id": "9a0b8d9a",
   "metadata": {},
   "outputs": [],
   "source": [
    "content = soupbody.get_text()"
   ]
  },
  {
   "cell_type": "code",
   "execution_count": null,
   "id": "61a59218",
   "metadata": {},
   "outputs": [],
   "source": [
    "content2 = ' '.join(content.split())"
   ]
  },
  {
   "cell_type": "code",
   "execution_count": null,
   "id": "ebfa1cf1",
   "metadata": {},
   "outputs": [],
   "source": [
    "content2"
   ]
  },
  {
   "cell_type": "code",
   "execution_count": null,
   "id": "265df490",
   "metadata": {},
   "outputs": [],
   "source": []
  }
 ],
 "metadata": {
  "kernelspec": {
   "display_name": ".venv",
   "language": "python",
   "name": "python3"
  },
  "language_info": {
   "codemirror_mode": {
    "name": "ipython",
    "version": 3
   },
   "file_extension": ".py",
   "mimetype": "text/x-python",
   "name": "python",
   "nbconvert_exporter": "python",
   "pygments_lexer": "ipython3",
   "version": "3.11.13"
  }
 },
 "nbformat": 4,
 "nbformat_minor": 5
}
