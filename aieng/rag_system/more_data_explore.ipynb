{
 "cells": [
  {
   "cell_type": "code",
   "execution_count": 9,
   "id": "c8b9b5ab",
   "metadata": {},
   "outputs": [],
   "source": [
    "from datasets import load_dataset\n",
    "import pandas as pd\n",
    "import json"
   ]
  },
  {
   "cell_type": "markdown",
   "id": "ed5ee528",
   "metadata": {},
   "source": [
    "https://huggingface.co/datasets/abzzer/Social-Media-Post-Relevance\n",
    "Pulled from Hugging Face"
   ]
  },
  {
   "cell_type": "code",
   "execution_count": null,
   "id": "edf464b1",
   "metadata": {},
   "outputs": [
    {
     "name": "stderr",
     "output_type": "stream",
     "text": [
      "Generating train split: 100%|██████████| 2000/2000 [00:00<00:00, 42623.31 examples/s]\n"
     ]
    }
   ],
   "source": [
    "needed = False\n",
    "if needed:\n",
    "    ds = load_dataset(\"abzzer/Social-Media-Post-Relevance\")\n",
    "    print(ds['train'])\n",
    "    train_df = ds['train'].to_pandas()\n",
    "    train_df.to_json('./sm-posts.json', orient='records')"
   ]
  },
  {
   "cell_type": "code",
   "execution_count": 11,
   "id": "910ff103",
   "metadata": {},
   "outputs": [],
   "source": [
    "that = None\n",
    "with open('./sm-posts.json', 'r', encoding=\"utf-8\") as file:\n",
    "    that = json.load(file)\n",
    "\n",
    "with open('./sm-posts.json', 'w', encoding=\"utf-8\") as file:\n",
    "    json.dump(that, file, indent=2)"
   ]
  },
  {
   "cell_type": "code",
   "execution_count": null,
   "id": "d0437035",
   "metadata": {},
   "outputs": [],
   "source": []
  }
 ],
 "metadata": {
  "kernelspec": {
   "display_name": ".venv",
   "language": "python",
   "name": "python3"
  },
  "language_info": {
   "codemirror_mode": {
    "name": "ipython",
    "version": 3
   },
   "file_extension": ".py",
   "mimetype": "text/x-python",
   "name": "python",
   "nbconvert_exporter": "python",
   "pygments_lexer": "ipython3",
   "version": "3.11.13"
  }
 },
 "nbformat": 4,
 "nbformat_minor": 5
}
