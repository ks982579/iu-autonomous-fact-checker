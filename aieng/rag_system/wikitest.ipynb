{
 "cells": [
  {
   "cell_type": "code",
   "execution_count": null,
   "id": "77ee1a8d",
   "metadata": {},
   "outputs": [],
   "source": [
    "from rag_eng import read_dot_env\n",
    "import requests\n",
    "import os\n",
    "import json\n",
    "from typing import List, Optional\n",
    "import base64"
   ]
  },
  {
   "cell_type": "code",
   "execution_count": 18,
   "id": "4cf9e5ac",
   "metadata": {},
   "outputs": [],
   "source": [
    "read_dot_env()\n",
    "access_token = os.getenv(\"WIKI_MEDIA_ACCESS_TOKEN\")\n",
    "assert access_token is not None"
   ]
  },
  {
   "cell_type": "code",
   "execution_count": 19,
   "id": "f1abf6e0",
   "metadata": {},
   "outputs": [],
   "source": [
    "def url_builder(protocol: str, subdomains: Optional[List[str]], second_level_domain: str, top_level_domain: str, sub_directories: Optional[List[str]]):\n",
    "    assert protocol == 'http' or protocol == 'https'\n",
    "    assert second_level_domain is not None and type(second_level_domain) is str\n",
    "    assert top_level_domain is not None and type(top_level_domain) is str\n",
    "    url = f\"{protocol}://\"\n",
    "    if subdomains is not None and len(subdomains) > 0:\n",
    "        for sub in subdomains:\n",
    "            assert type(sub) is str\n",
    "            url = f\"{url}{sub}.\"\n",
    "    url = f\"{url}{second_level_domain}.{top_level_domain}\"\n",
    "    if sub_directories is not None and len(sub_directories) > 0:\n",
    "        for sub in sub_directories:\n",
    "            assert type(sub) is str\n",
    "            url = f\"{url}/{sub}\"\n",
    "    return url\n"
   ]
  },
  {
   "cell_type": "markdown",
   "id": "f487f23c",
   "metadata": {},
   "source": [
    "## Failing token"
   ]
  },
  {
   "cell_type": "code",
   "execution_count": null,
   "id": "578b4241",
   "metadata": {},
   "outputs": [],
   "source": [
    "import requests\n",
    "\n",
    "# Step 1: Get access token using client credentials\n",
    "client_id = \"your_client_id\"\n",
    "client_secret = \"your_client_secret\"\n",
    "\n",
    "# Create basic auth header\n",
    "credentials = base64.b64encode(f\"{client_id}:{client_secret}\".encode()).decode()\n",
    "\n",
    "token_headers = {\n",
    "    'Authorization': f'Basic {credentials}',\n",
    "    'Content-Type': 'application/x-www-form-urlencoded',\n",
    "    'User-Agent': 'YourAppName/1.0 (your@email.com)'\n",
    "}\n",
    "\n",
    "token_data = {\n",
    "    'grant_type': 'client_credentials'\n",
    "}\n",
    "\n",
    "# Get token\n",
    "token_response = requests.post('https://meta.wikimedia.org/w/rest.php/oauth2/access_token', \n",
    "                              headers=token_headers, \n",
    "                              data=token_data)\n",
    "\n",
    "if token_response.status_code == 200:\n",
    "    access_token = token_response.json()['access_token']\n",
    "    \n",
    "    # Now use this token for API calls\n",
    "    api_headers = {\n",
    "        'Authorization': f'Bearer {access_token}',\n",
    "        'User-Agent': 'YourAppName/1.0 (your@email.com)'\n",
    "    }\n",
    "    \n",
    "    response = requests.get('https://api.wikimedia.org/core/v1/wikipedia/en/search/page', \n",
    "                           headers=api_headers, \n",
    "                           params={'q': 'python'})\n",
    "    print(response.json())\n",
    "else:\n",
    "    print(\"Token request failed:\", token_response.text)"
   ]
  },
  {
   "cell_type": "markdown",
   "id": "a58e2b71",
   "metadata": {},
   "source": [
    "The below was failing with my access token so I created the above but you do get 500 free requests per hour so default to the free API for now.\n",
    "\n",
    "[wikimedia docs](https://api.wikimedia.org/wiki/Searching_for_Wikipedia_articles_using_Python) are good to help."
   ]
  },
  {
   "cell_type": "code",
   "execution_count": null,
   "id": "4b0d701d",
   "metadata": {},
   "outputs": [
    {
     "name": "stdout",
     "output_type": "stream",
     "text": [
      "https://api.wikimedia.org/core/v1/wikipedia/en/search/page\n"
     ]
    }
   ],
   "source": [
    "language_code = 'en'\n",
    "search_query = 'donald trump epstein'\n",
    "number_of_results = 1\n",
    "headers = {\n",
    "    # \"Authorization\": f\"Bearer {access_token.strip()}\",\n",
    "    \"User-Agent\": \"IU-AUTONOMOUS-FACT-CHECKER (kevin.sullivan@sullivansoftware.dev)\",\n",
    "    \"Accept\": \"*/*\",\n",
    "}\n",
    "\n",
    "url = url_builder('https', ['api'], 'wikimedia', 'org', ['core', 'v1', 'wikipedia', 'en', 'search', 'page'])\n",
    "params = {'q': search_query, 'limit': number_of_results}\n",
    "\n",
    "print(url)\n",
    "\n",
    "response = requests.get(url, headers=headers, params=params)"
   ]
  },
  {
   "cell_type": "code",
   "execution_count": 28,
   "id": "e2f00fb0",
   "metadata": {},
   "outputs": [
    {
     "data": {
      "text/plain": [
       "<Response [200]>"
      ]
     },
     "execution_count": 28,
     "metadata": {},
     "output_type": "execute_result"
    }
   ],
   "source": [
    "response"
   ]
  },
  {
   "cell_type": "code",
   "execution_count": 29,
   "id": "cea7a147",
   "metadata": {},
   "outputs": [
    {
     "data": {
      "text/plain": [
       "{'pages': [{'id': 51978750,\n",
       "   'key': 'Donald_Trump_sexual_misconduct_allegations',\n",
       "   'title': 'Donald Trump sexual misconduct allegations',\n",
       "   'excerpt': '<span class=\"searchmatch\">Donald</span> <span class=\"searchmatch\">Trump</span> of rape, kissing and groping without consent; looking under women&#039;s skirts; and walking in on naked teenage pageant contestants. <span class=\"searchmatch\">Trump</span> has',\n",
       "   'matched_title': None,\n",
       "   'anchor': None,\n",
       "   'description': '',\n",
       "   'thumbnail': None}]}"
      ]
     },
     "execution_count": 29,
     "metadata": {},
     "output_type": "execute_result"
    }
   ],
   "source": [
    "response.json()"
   ]
  },
  {
   "cell_type": "code",
   "execution_count": null,
   "id": "03021991",
   "metadata": {},
   "outputs": [],
   "source": []
  }
 ],
 "metadata": {
  "kernelspec": {
   "display_name": ".venv",
   "language": "python",
   "name": "python3"
  },
  "language_info": {
   "codemirror_mode": {
    "name": "ipython",
    "version": 3
   },
   "file_extension": ".py",
   "mimetype": "text/x-python",
   "name": "python",
   "nbconvert_exporter": "python",
   "pygments_lexer": "ipython3",
   "version": "3.11.13"
  }
 },
 "nbformat": 4,
 "nbformat_minor": 5
}
