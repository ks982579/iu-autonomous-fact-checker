{
 "cells": [
  {
   "cell_type": "markdown",
   "id": "83d0b833",
   "metadata": {},
   "source": [
    "Maybe from switching models, but I got a wierd error that the trainer couldn't train.\n",
    "I thought perhaps it was a Torch setting, hence below.\n",
    "But it was to install `sudo apt-get install python3.11-dev`"
   ]
  },
  {
   "cell_type": "markdown",
   "id": "ee55709e",
   "metadata": {},
   "source": [
    "# Copied because I think it's a good start"
   ]
  },
  {
   "cell_type": "code",
   "execution_count": 1,
   "id": "171d70cf",
   "metadata": {},
   "outputs": [],
   "source": [
    "import os\n",
    "# os.environ.update({\n",
    "#     # \"TORCH_COMPILE_DISABLE\": \"1\",\n",
    "#     # \"PYTORCH_DISABLE_TRITON_INFERENCE\": \"1\", \n",
    "#     # \"TRITON_DISABLE_LINE_INFO\": \"1\"\n",
    "#     \"TOKENIZERS_PARALLELISM\": True\n",
    "# })"
   ]
  },
  {
   "cell_type": "code",
   "execution_count": 2,
   "id": "652b349b",
   "metadata": {},
   "outputs": [
    {
     "name": "stderr",
     "output_type": "stream",
     "text": [
      "/home/ksull18/code/iu-autonomous-fact-checker/.venv/lib/python3.11/site-packages/tqdm/auto.py:21: TqdmWarning: IProgress not found. Please update jupyter and ipywidgets. See https://ipywidgets.readthedocs.io/en/stable/user_install.html\n",
      "  from .autonotebook import tqdm as notebook_tqdm\n"
     ]
    }
   ],
   "source": [
    "from collections import Counter\n",
    "import json\n",
    "import sqlite3\n",
    "import pandas as pd\n",
    "from datasets import Dataset\n",
    "from pathlib import Path\n",
    "import logging\n",
    "import re\n",
    "\n",
    "import torch\n",
    "import numpy as np\n",
    "from transformers import (\n",
    "    AutoTokenizer,\n",
    "    AutoModelForSequenceClassification,\n",
    "    EarlyStoppingCallback,\n",
    "    DataCollatorWithPadding,\n",
    "    TrainingArguments,\n",
    "    Trainer,\n",
    "    pipeline\n",
    ")\n",
    "from sklearn.model_selection import train_test_split\n",
    "from sklearn.metrics import accuracy_score, precision_recall_fscore_support\n",
    "from sklearn.utils import resample, shuffle\n",
    "from sklearn.utils.class_weight import compute_class_weight\n",
    "from pathlib import Path\n",
    "from datetime import datetime\n",
    "from typing import List\n",
    "from enum import Enum\n",
    "import spacy\n",
    "import matplotlib.pyplot as plt\n",
    "\n",
    "import shutil\n",
    "import glob"
   ]
  },
  {
   "cell_type": "markdown",
   "id": "af449963",
   "metadata": {},
   "source": [
    "The following is just a work in progress - but this config will help for building and testing I hope."
   ]
  },
  {
   "cell_type": "code",
   "execution_count": 3,
   "id": "ec004d4a",
   "metadata": {},
   "outputs": [
    {
     "name": "stdout",
     "output_type": "stream",
     "text": [
      "HARDWARE: cuda\n"
     ]
    }
   ],
   "source": [
    "class FileConfig:\n",
    "    __FullRunContext = \"\"\"denotes using the complete dataset of just a smaller portion of it for testing.\"\"\"\n",
    "    FullRun = True\n",
    "\n",
    "    __MiniRunContext = \"\"\"denotes using a mini dataset for testing. If FullRun is True this is ignored.\"\"\"\n",
    "    MiniRun = False\n",
    "\n",
    "    __ModelVersionContext = \"\"\"To keep things in order, you may set model version here.\"\"\"\n",
    "    ModelVersion = \"v0.1.0\"\n",
    "\n",
    "    ## NOTE: currently not in use for this file\n",
    "    __Percentage = \"\"\"If NOT a full run, what percentage of data do we use? (Think decimal values 0 < pc < 1)\"\"\"\n",
    "    Percentage = 0.1\n",
    "    \n",
    "    __ToBuildContext = \"\"\"Do we want to build another model or run without build for testing purposes.\"\"\"\n",
    "    ToBuild = True\n",
    "\n",
    "    __CustomLossFnContext = \"\"\"For certain cases with class imbalance we need a custom loss function.\"\"\"\n",
    "    CustomLossFn = False\n",
    "    \n",
    "    __ChunkOverlapContext = \"\"\"For the vector store, chunks are 64 words with 8 word overlap.\"\"\"\n",
    "    ChunkOverlap = 8\n",
    "\n",
    "    # Don't know why an option, it's basically required.\n",
    "    UsePadding = True\n",
    "\n",
    "    # BaseModelName = \"bert-base-uncased\" # Context too small\n",
    "    # BaseModelName = \"answerdotai/ModernBERT-base\"\n",
    "    BaseModelName = \"distilbert-base-uncased\" # all lowercase\n",
    "    # I think ModernBert allows for 512 * 16 = 8192\n",
    "    MaxTokens = 512\n",
    "    Hardware = 'cuda' if torch.cuda.is_available() else 'cpu'\n",
    "\n",
    "# class Labels(Enum)\n",
    "LabelMap = Enum(\n",
    "    'LabelMap', \n",
    "    [\n",
    "        ('political', 0),\n",
    "        ('other', 1),\n",
    "        # ('NOT ENOUGH INFO', 2),\n",
    "    ]\n",
    ")\n",
    "print(f\"HARDWARE: {FileConfig.Hardware}\")"
   ]
  },
  {
   "cell_type": "code",
   "execution_count": 4,
   "id": "ac2305bf",
   "metadata": {},
   "outputs": [],
   "source": [
    "# FULL_RUN denotes using all the dataset or a small bit of it for testing the process\n",
    "logging.basicConfig(level=logging.INFO)\n",
    "logger = logging.getLogger(__name__)"
   ]
  },
  {
   "cell_type": "markdown",
   "id": "d76affa0",
   "metadata": {},
   "source": [
    "Turned out the database was 52GB of Wikipedia articles, but the dataset fit OK in one file so chunking wasn't necessary...\n",
    "Keeping the logic though."
   ]
  },
  {
   "cell_type": "markdown",
   "id": "9d502a8d",
   "metadata": {},
   "source": [
    "## Loading Data\n",
    "\n",
    "I've vectorized the evidence best I can so it matches the inputs it will receive."
   ]
  },
  {
   "cell_type": "code",
   "execution_count": 5,
   "id": "f4b52712",
   "metadata": {},
   "outputs": [
    {
     "data": {
      "text/plain": [
       "Index(['pre_text', 'label'], dtype='object')"
      ]
     },
     "execution_count": 5,
     "metadata": {},
     "output_type": "execute_result"
    }
   ],
   "source": [
    "processed_data_home = Path('.').resolve() / '.datasets'\n",
    "dfpart = pd.read_parquet(processed_data_home / 'partial_full20250819.parquet')\n",
    "dfpart.columns"
   ]
  },
  {
   "cell_type": "code",
   "execution_count": 6,
   "id": "a7392e5a",
   "metadata": {},
   "outputs": [
    {
     "data": {
      "text/plain": [
       "label\n",
       "political    246186\n",
       "other          6563\n",
       "Name: count, dtype: int64"
      ]
     },
     "execution_count": 6,
     "metadata": {},
     "output_type": "execute_result"
    }
   ],
   "source": [
    "dfpart['label'].value_counts()"
   ]
  },
  {
   "cell_type": "code",
   "execution_count": 7,
   "id": "469d8232",
   "metadata": {},
   "outputs": [
    {
     "name": "stdout",
     "output_type": "stream",
     "text": [
      "7876\n"
     ]
    }
   ],
   "source": [
    "dfpart_other = dfpart[dfpart['label'] == 'other']\n",
    "dfpart_pol = dfpart[dfpart['label'] == 'political']\n",
    "dfpart_other_os = pd.concat([dfpart_other.sample(frac=1, ignore_index=True), dfpart_other.sample(frac=.2, ignore_index=True)])\n",
    "\n",
    "lenother = len(dfpart_other_os)\n",
    "print(lenother)"
   ]
  },
  {
   "cell_type": "code",
   "execution_count": 8,
   "id": "8963a118",
   "metadata": {},
   "outputs": [],
   "source": [
    "dfpart_pol_s = dfpart_pol.sample(n=int(lenother), replace=False, ignore_index=True)"
   ]
  },
  {
   "cell_type": "code",
   "execution_count": 9,
   "id": "218cba25",
   "metadata": {},
   "outputs": [
    {
     "name": "stdout",
     "output_type": "stream",
     "text": [
      "                                                 pre_text  label\n",
      "count                                               15752  15752\n",
      "unique                                              14168      2\n",
      "top     Side by side comparison of the news. Comment o...  other\n",
      "freq                                                   98   7876\n",
      "1575\n",
      "X Tmp: 14177\n",
      "X test: 1575\n",
      "Y Tmp: 14177\n",
      "y Test: 1575\n",
      "1575\n",
      "X Train: 12602\n",
      "X Val: 1575\n",
      "Y Tmp: 12602\n",
      "y Test: 1575\n"
     ]
    },
    {
     "data": {
      "text/html": [
       "<div>\n",
       "<style scoped>\n",
       "    .dataframe tbody tr th:only-of-type {\n",
       "        vertical-align: middle;\n",
       "    }\n",
       "\n",
       "    .dataframe tbody tr th {\n",
       "        vertical-align: top;\n",
       "    }\n",
       "\n",
       "    .dataframe thead th {\n",
       "        text-align: right;\n",
       "    }\n",
       "</style>\n",
       "<table border=\"1\" class=\"dataframe\">\n",
       "  <thead>\n",
       "    <tr style=\"text-align: right;\">\n",
       "      <th></th>\n",
       "      <th>pre_text</th>\n",
       "      <th>label</th>\n",
       "    </tr>\n",
       "  </thead>\n",
       "  <tbody>\n",
       "    <tr>\n",
       "      <th>7204</th>\n",
       "      <td>Vintage copy of \"The Politics of Rich and Poor...</td>\n",
       "      <td>political</td>\n",
       "    </tr>\n",
       "    <tr>\n",
       "      <th>5970</th>\n",
       "      <td>News found via Crowdpac - Social Network For P...</td>\n",
       "      <td>political</td>\n",
       "    </tr>\n",
       "    <tr>\n",
       "      <th>2793</th>\n",
       "      <td>Happy Mother s Day to all the mothers out ther...</td>\n",
       "      <td>other</td>\n",
       "    </tr>\n",
       "    <tr>\n",
       "      <th>1485</th>\n",
       "      <td>French President Macron heads to Algeria to re...</td>\n",
       "      <td>political</td>\n",
       "    </tr>\n",
       "    <tr>\n",
       "      <th>7408</th>\n",
       "      <td>Faultlines re-open as Tunisian president's sup...</td>\n",
       "      <td>political</td>\n",
       "    </tr>\n",
       "  </tbody>\n",
       "</table>\n",
       "</div>"
      ],
      "text/plain": [
       "                                               pre_text      label\n",
       "7204  Vintage copy of \"The Politics of Rich and Poor...  political\n",
       "5970  News found via Crowdpac - Social Network For P...  political\n",
       "2793  Happy Mother s Day to all the mothers out ther...      other\n",
       "1485  French President Macron heads to Algeria to re...  political\n",
       "7408  Faultlines re-open as Tunisian president's sup...  political"
      ]
     },
     "execution_count": 9,
     "metadata": {},
     "output_type": "execute_result"
    }
   ],
   "source": [
    "dfpart_s = pd.concat([dfpart_other_os, dfpart_pol_s])\n",
    "print(dfpart_s.describe())\n",
    "\n",
    "# x = dfpart_s.drop('label', axis=1)\n",
    "# y = dfpart_s['label']\n",
    "\n",
    "# x_train, x_test, y_train, y_test = train_test_split(\n",
    "#     x, y,\n",
    "#     test_size=0.1,\n",
    "#     stratify=y,\n",
    "#     random_state=42,\n",
    "# )\n",
    "\n",
    "# x_train, x_test, y_train, y_test = train_test_split(\n",
    "#     x, y,\n",
    "#     test_size=0.1,\n",
    "#     stratify=y,\n",
    "#     random_state=42,\n",
    "# )\n",
    "\n",
    "# -----------------------------------\n",
    "# -----------------------------------\n",
    "x_all = dfpart_s.drop('label', axis=1)\n",
    "y_all = dfpart_s['label']\n",
    "lth_all = len(x_all)\n",
    "tenpc = int(len(x_all) * 0.1)\n",
    "print(tenpc)\n",
    "x_test, x_tmp, y_test, y_tmp = train_test_split(\n",
    "    x_all, y_all,\n",
    "    test_size=(len(x_all) - tenpc),\n",
    "    stratify=y_all,\n",
    "    random_state=42,\n",
    ")\n",
    "print(f\"X Tmp: {len(x_tmp)}\")\n",
    "print(f\"X test: {len(x_test)}\")\n",
    "print(f\"Y Tmp: {len(y_tmp)}\")\n",
    "print(f\"y Test: {len(y_test)}\")\n",
    "print(tenpc)\n",
    "\n",
    "x_val, x_train, y_val, y_train = train_test_split(\n",
    "    x_tmp, y_tmp,\n",
    "    test_size=(len(x_tmp) - tenpc),\n",
    "    stratify=y_tmp,\n",
    "    random_state=42,\n",
    ")\n",
    "print(f\"X Train: {len(x_train)}\")\n",
    "print(f\"X Val: {len(x_val)}\")\n",
    "print(f\"Y Tmp: {len(y_train)}\")\n",
    "print(f\"y Test: {len(y_val)}\")\n",
    "# -----------------------------------\n",
    "# -----------------------------------\n",
    "\n",
    "# Train for training\n",
    "pdft = x_train.copy()\n",
    "pdft['label'] = y_train.values\n",
    "\n",
    "# Dev for testing\n",
    "pdfd = x_test.copy()\n",
    "pdfd['label'] = y_test.values\n",
    "\n",
    "# Validation for validation\n",
    "pdfv = x_val.copy()\n",
    "pdfv['label'] = y_val.values\n",
    "\n",
    "\n",
    "# I don't have split data at moment. \n",
    "# pds = load_processed_fever(processed_data_home, 'fever_dev_chunk')\n",
    "# pdfd = pd.DataFrame(pds)\n",
    "pdft.head()"
   ]
  },
  {
   "cell_type": "code",
   "execution_count": 10,
   "id": "fa25d7fe",
   "metadata": {},
   "outputs": [
    {
     "name": "stdout",
     "output_type": "stream",
     "text": [
      "Training Data\n",
      "label\n",
      "political    6301\n",
      "other        6301\n",
      "Name: count, dtype: int64\n",
      "12602\n"
     ]
    }
   ],
   "source": [
    "print(\"Training Data\")\n",
    "print(pdft['label'].value_counts())\n",
    "print(len(pdft))"
   ]
  },
  {
   "cell_type": "code",
   "execution_count": 11,
   "id": "4d36779c",
   "metadata": {},
   "outputs": [
    {
     "name": "stdout",
     "output_type": "stream",
     "text": [
      "Testing Data\n",
      "label\n",
      "political    788\n",
      "other        787\n",
      "Name: count, dtype: int64\n",
      "1575\n"
     ]
    }
   ],
   "source": [
    "print('Testing Data')\n",
    "print(pdfd['label'].value_counts())\n",
    "print(len(pdfd))"
   ]
  },
  {
   "cell_type": "code",
   "execution_count": 12,
   "id": "d414fe2d",
   "metadata": {},
   "outputs": [
    {
     "name": "stdout",
     "output_type": "stream",
     "text": [
      "Validation Data\n",
      "label\n",
      "other        788\n",
      "political    787\n",
      "Name: count, dtype: int64\n",
      "1575\n"
     ]
    }
   ],
   "source": [
    "print('Validation Data')\n",
    "print(pdfv['label'].value_counts())\n",
    "print(len(pdfv))"
   ]
  },
  {
   "cell_type": "code",
   "execution_count": 13,
   "id": "f1e55629",
   "metadata": {},
   "outputs": [
    {
     "name": "stdout",
     "output_type": "stream",
     "text": [
      "7204    False\n",
      "5970    False\n",
      "2793    False\n",
      "1485    False\n",
      "7408    False\n",
      "        ...  \n",
      "6016    False\n",
      "1135    False\n",
      "6710    False\n",
      "5773    False\n",
      "350     False\n",
      "Name: label, Length: 12602, dtype: bool\n"
     ]
    }
   ],
   "source": [
    "# what is not enough data?\n",
    "mask = pdft[\"label\"] == \"NOT ENOUGH INFO\"\n",
    "print(mask)\n",
    "baddf = pdft[mask]\n",
    "\n",
    "# could also go with iloc\n",
    "for index, row in baddf.head(10).iterrows():\n",
    "    print(f\"{index + 1}.) {row['claim']}\")\n",
    "    print(\"Evidence:\")\n",
    "    for t in row['evidence']:\n",
    "        print(f\"  {t}\")\n",
    "    print(\"---\"*10)"
   ]
  },
  {
   "cell_type": "markdown",
   "id": "646f2b0b",
   "metadata": {},
   "source": [
    "# Model Training\n",
    "\n",
    "Going to follow pretty close to how I trained the claim extractor / detector model.\n",
    "Going to finetune BERT first I think as the context might not be big enough in DistilBERT for the evidence."
   ]
  },
  {
   "cell_type": "markdown",
   "id": "adb362d6",
   "metadata": {},
   "source": [
    "## Data Preparation\n",
    "\n",
    "I saved the entire evidence in the 'vector_evidence' so not to lose something and need to recreate datasets... again.\n",
    "However, now we must update our 'evidence' column here... \n",
    "Don't overwrite any files!"
   ]
  },
  {
   "cell_type": "code",
   "execution_count": 14,
   "id": "cbf90fcc",
   "metadata": {},
   "outputs": [
    {
     "data": {
      "text/html": [
       "<div>\n",
       "<style scoped>\n",
       "    .dataframe tbody tr th:only-of-type {\n",
       "        vertical-align: middle;\n",
       "    }\n",
       "\n",
       "    .dataframe tbody tr th {\n",
       "        vertical-align: top;\n",
       "    }\n",
       "\n",
       "    .dataframe thead th {\n",
       "        text-align: right;\n",
       "    }\n",
       "</style>\n",
       "<table border=\"1\" class=\"dataframe\">\n",
       "  <thead>\n",
       "    <tr style=\"text-align: right;\">\n",
       "      <th></th>\n",
       "      <th>pre_text</th>\n",
       "      <th>label</th>\n",
       "    </tr>\n",
       "  </thead>\n",
       "  <tbody>\n",
       "    <tr>\n",
       "      <th>7204</th>\n",
       "      <td>Vintage copy of \"The Politics of Rich and Poor...</td>\n",
       "      <td>political</td>\n",
       "    </tr>\n",
       "    <tr>\n",
       "      <th>5970</th>\n",
       "      <td>News found via Crowdpac - Social Network For P...</td>\n",
       "      <td>political</td>\n",
       "    </tr>\n",
       "    <tr>\n",
       "      <th>2793</th>\n",
       "      <td>Happy Mother s Day to all the mothers out ther...</td>\n",
       "      <td>other</td>\n",
       "    </tr>\n",
       "    <tr>\n",
       "      <th>1485</th>\n",
       "      <td>French President Macron heads to Algeria to re...</td>\n",
       "      <td>political</td>\n",
       "    </tr>\n",
       "    <tr>\n",
       "      <th>7408</th>\n",
       "      <td>Faultlines re-open as Tunisian president's sup...</td>\n",
       "      <td>political</td>\n",
       "    </tr>\n",
       "  </tbody>\n",
       "</table>\n",
       "</div>"
      ],
      "text/plain": [
       "                                               pre_text      label\n",
       "7204  Vintage copy of \"The Politics of Rich and Poor...  political\n",
       "5970  News found via Crowdpac - Social Network For P...  political\n",
       "2793  Happy Mother s Day to all the mothers out ther...      other\n",
       "1485  French President Macron heads to Algeria to re...  political\n",
       "7408  Faultlines re-open as Tunisian president's sup...  political"
      ]
     },
     "execution_count": 14,
     "metadata": {},
     "output_type": "execute_result"
    }
   ],
   "source": [
    "pdft.head()"
   ]
  },
  {
   "cell_type": "code",
   "execution_count": 15,
   "id": "c2e7bddd",
   "metadata": {},
   "outputs": [
    {
     "data": {
      "text/html": [
       "<div>\n",
       "<style scoped>\n",
       "    .dataframe tbody tr th:only-of-type {\n",
       "        vertical-align: middle;\n",
       "    }\n",
       "\n",
       "    .dataframe tbody tr th {\n",
       "        vertical-align: top;\n",
       "    }\n",
       "\n",
       "    .dataframe thead th {\n",
       "        text-align: right;\n",
       "    }\n",
       "</style>\n",
       "<table border=\"1\" class=\"dataframe\">\n",
       "  <thead>\n",
       "    <tr style=\"text-align: right;\">\n",
       "      <th></th>\n",
       "      <th>pre_text</th>\n",
       "      <th>label</th>\n",
       "    </tr>\n",
       "  </thead>\n",
       "  <tbody>\n",
       "    <tr>\n",
       "      <th>5829</th>\n",
       "      <td>NEW YEAR, NEW #PHONE Save $15 on {{USERNAME}} ...</td>\n",
       "      <td>other</td>\n",
       "    </tr>\n",
       "    <tr>\n",
       "      <th>3501</th>\n",
       "      <td>Winning tickets from {{USERNAME}} to see {{USE...</td>\n",
       "      <td>other</td>\n",
       "    </tr>\n",
       "    <tr>\n",
       "      <th>2439</th>\n",
       "      <td>#starwars #riseofskywalker No spoiler reaction...</td>\n",
       "      <td>other</td>\n",
       "    </tr>\n",
       "    <tr>\n",
       "      <th>3624</th>\n",
       "      <td>In 2022, let's normalize citing credible sourc...</td>\n",
       "      <td>political</td>\n",
       "    </tr>\n",
       "    <tr>\n",
       "      <th>4050</th>\n",
       "      <td>Successful second Halloween! Went to see Birds...</td>\n",
       "      <td>other</td>\n",
       "    </tr>\n",
       "  </tbody>\n",
       "</table>\n",
       "</div>"
      ],
      "text/plain": [
       "                                               pre_text      label\n",
       "5829  NEW YEAR, NEW #PHONE Save $15 on {{USERNAME}} ...      other\n",
       "3501  Winning tickets from {{USERNAME}} to see {{USE...      other\n",
       "2439  #starwars #riseofskywalker No spoiler reaction...      other\n",
       "3624  In 2022, let's normalize citing credible sourc...  political\n",
       "4050  Successful second Halloween! Went to see Birds...      other"
      ]
     },
     "execution_count": 15,
     "metadata": {},
     "output_type": "execute_result"
    }
   ],
   "source": [
    "pdfd.head()"
   ]
  },
  {
   "cell_type": "code",
   "execution_count": 16,
   "id": "9be233b0",
   "metadata": {},
   "outputs": [
    {
     "data": {
      "text/html": [
       "<div>\n",
       "<style scoped>\n",
       "    .dataframe tbody tr th:only-of-type {\n",
       "        vertical-align: middle;\n",
       "    }\n",
       "\n",
       "    .dataframe tbody tr th {\n",
       "        vertical-align: top;\n",
       "    }\n",
       "\n",
       "    .dataframe thead th {\n",
       "        text-align: right;\n",
       "    }\n",
       "</style>\n",
       "<table border=\"1\" class=\"dataframe\">\n",
       "  <thead>\n",
       "    <tr style=\"text-align: right;\">\n",
       "      <th></th>\n",
       "      <th>pre_text</th>\n",
       "      <th>label</th>\n",
       "    </tr>\n",
       "  </thead>\n",
       "  <tbody>\n",
       "    <tr>\n",
       "      <th>3639</th>\n",
       "      <td>August Alsina Releases ‘Entanglements’ Song Fe...</td>\n",
       "      <td>other</td>\n",
       "    </tr>\n",
       "    <tr>\n",
       "      <th>4832</th>\n",
       "      <td>I just earned the  Beer of the World (Level 10...</td>\n",
       "      <td>other</td>\n",
       "    </tr>\n",
       "    <tr>\n",
       "      <th>6403</th>\n",
       "      <td>Family bids farewell to British journalist mur...</td>\n",
       "      <td>political</td>\n",
       "    </tr>\n",
       "    <tr>\n",
       "      <th>6134</th>\n",
       "      <td>All the #news that #funny to tell? from {{USER...</td>\n",
       "      <td>political</td>\n",
       "    </tr>\n",
       "    <tr>\n",
       "      <th>5528</th>\n",
       "      <td>UFC 251 Post-Fight Matchmaking: Jessica Andrad...</td>\n",
       "      <td>other</td>\n",
       "    </tr>\n",
       "  </tbody>\n",
       "</table>\n",
       "</div>"
      ],
      "text/plain": [
       "                                               pre_text      label\n",
       "3639  August Alsina Releases ‘Entanglements’ Song Fe...      other\n",
       "4832  I just earned the  Beer of the World (Level 10...      other\n",
       "6403  Family bids farewell to British journalist mur...  political\n",
       "6134  All the #news that #funny to tell? from {{USER...  political\n",
       "5528  UFC 251 Post-Fight Matchmaking: Jessica Andrad...      other"
      ]
     },
     "execution_count": 16,
     "metadata": {},
     "output_type": "execute_result"
    }
   ],
   "source": [
    "pdfv.head()"
   ]
  },
  {
   "cell_type": "code",
   "execution_count": 17,
   "id": "7b55f133",
   "metadata": {},
   "outputs": [],
   "source": [
    "# Data Shuffle\n",
    "for _ in range(3):\n",
    "    pdft = pdft.sample(frac=1, replace=False, ignore_index=True)\n",
    "    pdfd = pdfd.sample(frac=1, replace=False, ignore_index=True)\n",
    "    pdfv = pdfv.sample(frac=1, replace=False, ignore_index=True)"
   ]
  },
  {
   "cell_type": "markdown",
   "id": "6cc35f72",
   "metadata": {},
   "source": [
    "## Loading and Setup with BERT"
   ]
  },
  {
   "cell_type": "markdown",
   "id": "076d61b1",
   "metadata": {},
   "source": [
    "### Initialize Tokenizer and Model"
   ]
  },
  {
   "cell_type": "code",
   "execution_count": 18,
   "id": "06423edf",
   "metadata": {},
   "outputs": [],
   "source": [
    "# Loading tokenizer for this model\n",
    "tokenizer = AutoTokenizer.from_pretrained(FileConfig.BaseModelName)\n",
    "# dir(tokenizer)"
   ]
  },
  {
   "cell_type": "code",
   "execution_count": 19,
   "id": "55f02269",
   "metadata": {},
   "outputs": [],
   "source": [
    "# Ran into tokenization issue - All tensors in a batch should be same length\n",
    "# Some were 100 and but one was 187.\n",
    "# Use padding\n",
    "data_collator = DataCollatorWithPadding(tokenizer=tokenizer)"
   ]
  },
  {
   "cell_type": "code",
   "execution_count": 20,
   "id": "166ee00e",
   "metadata": {},
   "outputs": [
    {
     "name": "stderr",
     "output_type": "stream",
     "text": [
      "Some weights of DistilBertForSequenceClassification were not initialized from the model checkpoint at distilbert-base-uncased and are newly initialized: ['classifier.bias', 'classifier.weight', 'pre_classifier.bias', 'pre_classifier.weight']\n",
      "You should probably TRAIN this model on a down-stream task to be able to use it for predictions and inference.\n"
     ]
    },
    {
     "name": "stdout",
     "output_type": "stream",
     "text": [
      "Model loaded: distilbert-base-uncased\n",
      "Vocabulary size: 30522\n"
     ]
    }
   ],
   "source": [
    "model = AutoModelForSequenceClassification.from_pretrained(\n",
    "    FileConfig.BaseModelName, \n",
    "    num_labels=2,  # Either political or not\n",
    ")\n",
    "model.to(FileConfig.Hardware)\n",
    "\n",
    "print(f\"Model loaded: {FileConfig.BaseModelName}\")\n",
    "print(f\"Vocabulary size: {tokenizer.vocab_size}\")"
   ]
  },
  {
   "cell_type": "markdown",
   "id": "60924fa3",
   "metadata": {},
   "source": [
    "### Tokenize Data\n",
    "\n",
    "Unlike the claim_extractor model, which just had the claim and a label, this model has claims and evidence, and 3 labels. \n",
    "I believe our tokenizer must handle the proper combination."
   ]
  },
  {
   "cell_type": "code",
   "execution_count": 21,
   "id": "727ed53a",
   "metadata": {},
   "outputs": [],
   "source": [
    "# May need to update based on use case in future (If I copy this file for any other model)\n",
    "def data_transform(text: str):\n",
    "    \"\"\"\n",
    "    This will be used later when we need to actually use this model.\n",
    "    \"\"\"\n",
    "    # Update for BERT Specific\n",
    "    return f\"[CLS] {text} [SEP]\"\n",
    "    # return f\"CLAIM: {claim} EVIDENCE: {evidence_text}\"\n"
   ]
  },
  {
   "cell_type": "code",
   "execution_count": 22,
   "id": "86fc7de4",
   "metadata": {},
   "outputs": [
    {
     "name": "stdout",
     "output_type": "stream",
     "text": [
      "Loading tokenizer: distilbert-base-uncased\n",
      "Analyzing 12602 texts...\n",
      "Processed 1000 texts...\n",
      "Processed 2000 texts...\n",
      "Processed 3000 texts...\n",
      "Processed 4000 texts...\n",
      "Processed 5000 texts...\n",
      "Processed 6000 texts...\n",
      "Processed 7000 texts...\n",
      "Processed 8000 texts...\n",
      "Processed 9000 texts...\n",
      "Processed 10000 texts...\n",
      "Processed 11000 texts...\n",
      "Processed 12000 texts...\n",
      "\n",
      "==================================================\n",
      "TOKEN LENGTH STATISTICS\n",
      "==================================================\n",
      "Total samples: 12,602\n",
      "Average length: 51.8 tokens\n",
      "Median length: 49.0 tokens\n",
      "Standard deviation: 20.7\n",
      "Min length: 9 tokens\n",
      "Max length: 493 tokens\n",
      "\n",
      "PERCENTILES:\n",
      "25th percentile: 36.0 tokens\n",
      "50th percentile: 49.0 tokens\n",
      "75th percentile: 66.0 tokens\n",
      "90th percentile: 78.0 tokens\n",
      "95th percentile: 85.0 tokens\n",
      "99th percentile: 97.0 tokens\n",
      "\n",
      "==================================================\n",
      "RECOMMENDATIONS:\n",
      "==================================================\n",
      "  Recommended max_length: 256 (covers 95% of data)\n",
      "\n",
      "Data truncated at different max_lengths:\n",
      "  max_length=256: 0.0% truncated\n",
      "  max_length=512: 0.0% truncated\n",
      "  max_length=768: 0.0% truncated\n",
      "  max_length=1024: 0.0% truncated\n",
      "  max_length=2048: 0.0% truncated\n"
     ]
    },
    {
     "data": {
      "image/png": "[encoded data removed]",
      "text/plain": [
       "<Figure size 1200x600 with 2 Axes>"
      ]
     },
     "metadata": {},
     "output_type": "display_data"
    },
    {
     "name": "stdout",
     "output_type": "stream",
     "text": [
      "Loading tokenizer: distilbert-base-uncased\n",
      "Analyzing 1575 texts...\n",
      "Processed 1000 texts...\n",
      "\n",
      "==================================================\n",
      "TOKEN LENGTH STATISTICS\n",
      "==================================================\n",
      "Total samples: 1,575\n",
      "Average length: 51.6 tokens\n",
      "Median length: 49.0 tokens\n",
      "Standard deviation: 19.3\n",
      "Min length: 11 tokens\n",
      "Max length: 150 tokens\n",
      "\n",
      "PERCENTILES:\n",
      "25th percentile: 36.0 tokens\n",
      "50th percentile: 49.0 tokens\n",
      "75th percentile: 66.0 tokens\n",
      "90th percentile: 78.0 tokens\n",
      "95th percentile: 85.0 tokens\n",
      "99th percentile: 97.0 tokens\n",
      "\n",
      "==================================================\n",
      "RECOMMENDATIONS:\n",
      "==================================================\n",
      "  Recommended max_length: 256 (covers 95% of data)\n",
      "\n",
      "Data truncated at different max_lengths:\n",
      "  max_length=256: 0.0% truncated\n",
      "  max_length=512: 0.0% truncated\n",
      "  max_length=768: 0.0% truncated\n",
      "  max_length=1024: 0.0% truncated\n",
      "  max_length=2048: 0.0% truncated\n"
     ]
    },
    {
     "data": {
      "image/png": "[encoded data removed]",
      "text/plain": [
       "<Figure size 1200x600 with 2 Axes>"
      ]
     },
     "metadata": {},
     "output_type": "display_data"
    },
    {
     "name": "stdout",
     "output_type": "stream",
     "text": [
      "Loading tokenizer: distilbert-base-uncased\n",
      "Analyzing 1575 texts...\n",
      "Processed 1000 texts...\n",
      "\n",
      "==================================================\n",
      "TOKEN LENGTH STATISTICS\n",
      "==================================================\n",
      "Total samples: 1,575\n",
      "Average length: 51.4 tokens\n",
      "Median length: 48.0 tokens\n",
      "Standard deviation: 20.7\n",
      "Min length: 9 tokens\n",
      "Max length: 365 tokens\n",
      "\n",
      "PERCENTILES:\n",
      "25th percentile: 36.0 tokens\n",
      "50th percentile: 48.0 tokens\n",
      "75th percentile: 65.0 tokens\n",
      "90th percentile: 78.0 tokens\n",
      "95th percentile: 85.0 tokens\n",
      "99th percentile: 98.3 tokens\n",
      "\n",
      "==================================================\n",
      "RECOMMENDATIONS:\n",
      "==================================================\n",
      "  Recommended max_length: 256 (covers 95% of data)\n",
      "\n",
      "Data truncated at different max_lengths:\n",
      "  max_length=256: 0.1% truncated\n",
      "  max_length=512: 0.0% truncated\n",
      "  max_length=768: 0.0% truncated\n",
      "  max_length=1024: 0.0% truncated\n",
      "  max_length=2048: 0.0% truncated\n"
     ]
    },
    {
     "data": {
      "image/png": "[encoded data removed]",
      "text/plain": [
       "<Figure size 1200x600 with 2 Axes>"
      ]
     },
     "metadata": {},
     "output_type": "display_data"
    }
   ],
   "source": [
    "# Find good max token length...\n",
    "def analyze_token_lengths(df, text_column='text', tokenizer_name='answerdotai/ModernBERT-base'):\n",
    "    \"\"\"\n",
    "    Analyze token lengths in your dataset\n",
    "    \n",
    "    Args:\n",
    "        df: pandas DataFrame\n",
    "        text_column: name of column containing text\n",
    "        tokenizer_name: HuggingFace tokenizer to use\n",
    "    \"\"\"\n",
    "    \n",
    "    # Load tokenizer\n",
    "    print(f\"Loading tokenizer: {tokenizer_name}\")\n",
    "    tokenizer = AutoTokenizer.from_pretrained(tokenizer_name)\n",
    "    \n",
    "    # Get all texts\n",
    "    texts = df[text_column].tolist()\n",
    "    print(f\"Analyzing {len(texts)} texts...\")\n",
    "    \n",
    "    # Tokenize without truncation to get true lengths\n",
    "    token_lengths = []\n",
    "    \n",
    "    # Process in batches for efficiency\n",
    "    batch_size = 100\n",
    "    for i in range(0, len(texts), batch_size):\n",
    "        batch_texts = texts[i:i+batch_size]\n",
    "        \n",
    "        # Tokenize batch\n",
    "        tokenized = tokenizer(\n",
    "            batch_texts, \n",
    "            truncation=False,  # Don't truncate - we want true lengths\n",
    "            padding=False,     # Don't pad\n",
    "            return_tensors=None\n",
    "        )\n",
    "        \n",
    "        # Get lengths\n",
    "        batch_lengths = [len(tokens) for tokens in tokenized['input_ids']]\n",
    "        token_lengths.extend(batch_lengths)\n",
    "        \n",
    "        if (i // batch_size + 1) % 10 == 0:\n",
    "            print(f\"Processed {i + len(batch_texts)} texts...\")\n",
    "    \n",
    "    # Calculate statistics\n",
    "    token_lengths = np.array(token_lengths)\n",
    "    \n",
    "    stats = {\n",
    "        'count': len(token_lengths),\n",
    "        'mean': np.mean(token_lengths),\n",
    "        'median': np.median(token_lengths),\n",
    "        'std': np.std(token_lengths),\n",
    "        'min': np.min(token_lengths),\n",
    "        'max': np.max(token_lengths),\n",
    "        '25th_percentile': np.percentile(token_lengths, 25),\n",
    "        '50th_percentile': np.percentile(token_lengths, 50),\n",
    "        '75th_percentile': np.percentile(token_lengths, 75),\n",
    "        '90th_percentile': np.percentile(token_lengths, 90),\n",
    "        '95th_percentile': np.percentile(token_lengths, 95),\n",
    "        '99th_percentile': np.percentile(token_lengths, 99)\n",
    "    }\n",
    "    \n",
    "    # Print results\n",
    "    print(\"\\n\" + \"=\"*50)\n",
    "    print(\"TOKEN LENGTH STATISTICS\")\n",
    "    print(\"=\"*50)\n",
    "    print(f\"Total samples: {stats['count']:,}\")\n",
    "    print(f\"Average length: {stats['mean']:.1f} tokens\")\n",
    "    print(f\"Median length: {stats['median']:.1f} tokens\")\n",
    "    print(f\"Standard deviation: {stats['std']:.1f}\")\n",
    "    print(f\"Min length: {stats['min']} tokens\")\n",
    "    print(f\"Max length: {stats['max']:,} tokens\")\n",
    "    print()\n",
    "    print(\"PERCENTILES:\")\n",
    "    print(f\"25th percentile: {stats['25th_percentile']:.1f} tokens\")\n",
    "    print(f\"50th percentile: {stats['50th_percentile']:.1f} tokens\")\n",
    "    print(f\"75th percentile: {stats['75th_percentile']:.1f} tokens\")\n",
    "    print(f\"90th percentile: {stats['90th_percentile']:.1f} tokens\")\n",
    "    print(f\"95th percentile: {stats['95th_percentile']:.1f} tokens\")\n",
    "    print(f\"99th percentile: {stats['99th_percentile']:.1f} tokens\")\n",
    "    \n",
    "    # Recommendations based on percentiles\n",
    "    print(\"\\n\" + \"=\"*50)\n",
    "    print(\"RECOMMENDATIONS:\")\n",
    "    print(\"=\"*50)\n",
    "    \n",
    "    if stats['95th_percentile'] <= 256:\n",
    "        print(\"  Recommended max_length: 256 (covers 95% of data)\")\n",
    "    elif stats['95th_percentile'] <= 512:\n",
    "        print(\"  Recommended max_length: 512 (covers 95% of data)\")\n",
    "    elif stats['90th_percentile'] <= 512:\n",
    "        print(\"️!  Consider max_length: 512 (covers 90% of data)\")\n",
    "        print(f\"   Note: {100-90:.1f}% of samples will be truncated\")\n",
    "    elif stats['95th_percentile'] <= 1024:\n",
    "        print(\"  Recommended max_length: 1024 (covers 95% of data)\")\n",
    "    else:\n",
    "        print(f\"  Consider max_length: {int(stats['95th_percentile'])} (covers 95% of data)\")\n",
    "        print(\"   Or use 1024 if you want faster training with some truncation\")\n",
    "    \n",
    "    print(f\"\\nData truncated at different max_lengths:\")\n",
    "    for max_len in [256, 512, 768, 1024, 2048]:\n",
    "        pct_truncated = (token_lengths > max_len).mean() * 100\n",
    "        print(f\"  max_length={max_len}: {pct_truncated:.1f}% truncated\")\n",
    "    \n",
    "    # Create histogram\n",
    "    plt.figure(figsize=(12, 6))\n",
    "    \n",
    "    plt.subplot(1, 2, 1)\n",
    "    plt.hist(token_lengths, bins=50, alpha=0.7, edgecolor='black')\n",
    "    plt.xlabel('Token Length')\n",
    "    plt.ylabel('Frequency')\n",
    "    plt.title('Distribution of Token Lengths')\n",
    "    plt.axvline(stats['mean'], color='red', linestyle='--', label=f'Mean: {stats[\"mean\"]:.1f}')\n",
    "    plt.axvline(stats['95th_percentile'], color='orange', linestyle='--', label=f'95th %ile: {stats[\"95th_percentile\"]:.1f}')\n",
    "    plt.legend()\n",
    "    \n",
    "    # Zoomed in view (up to 95th percentile)\n",
    "    plt.subplot(1, 2, 2)\n",
    "    zoom_limit = min(int(stats['95th_percentile'] * 1.1), stats['max'])\n",
    "    zoom_data = token_lengths[token_lengths <= zoom_limit]\n",
    "    plt.hist(zoom_data, bins=30, alpha=0.7, edgecolor='black')\n",
    "    plt.xlabel('Token Length')\n",
    "    plt.ylabel('Frequency')\n",
    "    plt.title(f'Distribution (Zoomed: 0-{zoom_limit} tokens)')\n",
    "    plt.axvline(stats['mean'], color='red', linestyle='--', label=f'Mean: {stats[\"mean\"]:.1f}')\n",
    "    \n",
    "    plt.tight_layout()\n",
    "    plt.show()\n",
    "    \n",
    "    return stats, token_lengths\n",
    "\n",
    "pdft.head(2)\n",
    "pdft['input'] = pdft.apply(lambda x: data_transform(x['pre_text']), axis=1)\n",
    "pdfd['input'] = pdfd.apply(lambda x: data_transform(x['pre_text']), axis=1)\n",
    "pdfv['input'] = pdfv.apply(lambda x: data_transform(x['pre_text']), axis=1)\n",
    "\n",
    "statst, token_lengthst = analyze_token_lengths(pdft, text_column='input', tokenizer_name=FileConfig.BaseModelName)\n",
    "statsd, token_lengthsd = analyze_token_lengths(pdfd, text_column='input', tokenizer_name=FileConfig.BaseModelName)\n",
    "statsv, token_lengthsv = analyze_token_lengths(pdfv, text_column='input', tokenizer_name=FileConfig.BaseModelName)"
   ]
  },
  {
   "cell_type": "markdown",
   "id": "e82ec05c",
   "metadata": {},
   "source": [
    "> Perhaps a point of improvement - better input and separation of claims and evidence. "
   ]
  },
  {
   "cell_type": "code",
   "execution_count": 23,
   "id": "d6782b93",
   "metadata": {},
   "outputs": [
    {
     "name": "stdout",
     "output_type": "stream",
     "text": [
      "512\n"
     ]
    }
   ],
   "source": [
    "max_token_len = getattr(tokenizer, 'model_max_length', 512)\n",
    "max_token_len = min(FileConfig.MaxTokens, max_token_len)\n",
    "print(max_token_len)\n",
    "# 512 is returned for distilbert which is more than plenty for these text inputs"
   ]
  },
  {
   "cell_type": "code",
   "execution_count": 24,
   "id": "00ca1c87",
   "metadata": {},
   "outputs": [],
   "source": [
    "def tokenize_fn(dataset):\n",
    "    # Combine claim and evidence into single text input\n",
    "    texts = [t for t in dataset['input']]\n",
    "    # TODO: doesn't the other file also use input...? \n",
    "    # for claim, evidence in zip(dataset['claim'], dataset['evidence']):\n",
    "    #     combined_text = data_transform(claim, evidence)\n",
    "    #     texts.append(combined_text)\n",
    "    \n",
    "    # Token Length calculated outside - impure but only once\n",
    "\n",
    "    model_inputs = tokenizer(\n",
    "        texts,\n",
    "        truncation=True,\n",
    "        padding=FileConfig.UsePadding,\n",
    "        max_length=max_token_len,\n",
    "    )\n",
    "\n",
    "    label_map = {\"political\": 0, \"other\": 1}\n",
    "    model_inputs[\"label\"] = [label_map[label] for label in dataset['label']]\n",
    "\n",
    "    return model_inputs"
   ]
  },
  {
   "cell_type": "markdown",
   "id": "a536ed82",
   "metadata": {},
   "source": [
    "#### Data Debugging\n",
    "\n",
    "The training is not working because it says the labels are a list..."
   ]
  },
  {
   "cell_type": "code",
   "execution_count": 37,
   "id": "1aac0686",
   "metadata": {},
   "outputs": [],
   "source": [
    "# Checking the structure of your pandas data before conversion\n",
    "if False:\n",
    "    print(\"Sample rows from pdft:\")\n",
    "    print(pdft[['claim', 'evidence', 'label']].head(2))\n",
    "    print(\"\\nData types:\")\n",
    "    print(pdft[['claim', 'evidence', 'label']].dtypes)\n",
    "    print(\"\\nSample evidence type:\")\n",
    "    print(type(pdft['evidence'].iloc[0]))\n",
    "    print(\"Sample evidence content:\")\n",
    "    print(pdft['evidence'].iloc[0])\n",
    "    print(\"\\nSample label type:\")\n",
    "    print(type(pdft['label'].iloc[0]))\n",
    "    pdft[['claim', 'evidence', 'label']].head(2)"
   ]
  },
  {
   "cell_type": "markdown",
   "id": "0bfb3dfb",
   "metadata": {},
   "source": [
    "### Constant...\n",
    "\n",
    "LABELS is for computing class weights later..."
   ]
  },
  {
   "cell_type": "code",
   "execution_count": 38,
   "id": "3b7f09d1",
   "metadata": {},
   "outputs": [],
   "source": [
    "LABELS = pdft['label'].values"
   ]
  },
  {
   "cell_type": "code",
   "execution_count": 39,
   "id": "60cf4f22",
   "metadata": {},
   "outputs": [
    {
     "data": {
      "text/plain": [
       "6301"
      ]
     },
     "execution_count": 39,
     "metadata": {},
     "output_type": "execute_result"
    }
   ],
   "source": [
    "min(pdft['label'].value_counts())"
   ]
  },
  {
   "cell_type": "markdown",
   "id": "56790281",
   "metadata": {},
   "source": [
    "[This StackOverflow post](https://stackoverflow.com/questions/29576430/shuffle-dataframe-rows) lists several ways to shuffle a dataframe. \n",
    "Pandas has the builtin `df = df.sample(frac=1).reset_index(drop=True)` which apparently reassigns but does not recreate.\n",
    "SciKit Learn also has a \"shuffle\" method but that might require resetting indexes.\n",
    "There are then seemingly countless ways after that as well...\n",
    "\n",
    "Side note on sample - it now has an 'ignore_index' param to help with that reset issue."
   ]
  },
  {
   "cell_type": "code",
   "execution_count": 40,
   "id": "3fc081bf",
   "metadata": {},
   "outputs": [
    {
     "name": "stdout",
     "output_type": "stream",
     "text": [
      "Full Run!\n"
     ]
    },
    {
     "name": "stderr",
     "output_type": "stream",
     "text": [
      "Map: 100%|██████████| 12602/12602 [00:00<00:00, 16388.72 examples/s]\n",
      "Map: 100%|██████████| 1575/1575 [00:00<00:00, 12896.48 examples/s]"
     ]
    },
    {
     "name": "stdout",
     "output_type": "stream",
     "text": [
      "Data tokenized successfully!\n"
     ]
    },
    {
     "name": "stderr",
     "output_type": "stream",
     "text": [
      "\n"
     ]
    }
   ],
   "source": [
    "# Convert pandas DataFrames to 🤗 Dataset objects\n",
    "if FileConfig.FullRun:\n",
    "    print(\"Full Run!\")\n",
    "    dst = Dataset.from_pandas(pdft[['input', 'label']])\n",
    "    dsv = Dataset.from_pandas(pdfd[['input', 'label']])\n",
    "elif FileConfig.MiniRun:\n",
    "    print(\"Mini Run!\")\n",
    "    # mini-datasets for running into issues... 😖\n",
    "    # should probably go in the data processing section\n",
    "    # there's probably an easier way...\n",
    "    training_mini = pd.concat([\n",
    "        pdft[pdft['label'] == 'SUPPORTS'].sample(n=100, replace=False, ignore_index=True),\n",
    "        pdft[pdft['label'] == 'REFUTES'].sample(n=100, replace=False, ignore_index=True),\n",
    "        pdft[pdft['label'] == 'NOT ENOUGH INFO'].sample(n=100, replace=False, ignore_index=True),\n",
    "    ])\n",
    "\n",
    "    val_mini = pd.concat([\n",
    "        pdfd[pdfd['label'] == 'SUPPORTS'].sample(n=20, replace=False, ignore_index=True),\n",
    "        pdfd[pdfd['label'] == 'REFUTES'].sample(n=20, replace=False, ignore_index=True),\n",
    "        pdfd[pdfd['label'] == 'NOT ENOUGH INFO'].sample(n=20, replace=False, ignore_index=True),\n",
    "    ])\n",
    "\n",
    "    ## Shuffle data\n",
    "    for _ in range(5):\n",
    "        training_mini = training_mini.sample(frac=1, replace=False, ignore_index=True)\n",
    "        val_mini = val_mini.sample(frac=1, replace=False, ignore_index=True)\n",
    "\n",
    "    print(training_mini['label'].value_counts())\n",
    "    print(val_mini['label'].value_counts())\n",
    "    dst = Dataset.from_pandas(training_mini[['claim', 'evidence', 'label']])\n",
    "    dsv = Dataset.from_pandas(val_mini[['claim', 'evidence', 'label']])\n",
    "\n",
    "    ## REDO Labels - shouldn't be too different\n",
    "    LABLES = training_mini['label'].values\n",
    "else:\n",
    "    # This is not ready yet\n",
    "    pc = FileConfig.Percentage\n",
    "    print(f\"Partial Run of {pc:.02%}\")\n",
    "\n",
    "\n",
    "    # NEW STRATEGY\n",
    "    numr = min(pdft['label'].value_counts()) * 2\n",
    "    training_mini = pd.concat([\n",
    "        pdft[pdft['label'] == 'SUPPORTS'].sample(n=numr, replace=False, ignore_index=True),\n",
    "        pdft[pdft['label'] == 'REFUTES'].sample(n=numr, replace=False, ignore_index=True),\n",
    "        # allowing replacement here.\n",
    "        pdft[pdft['label'] == 'NOT ENOUGH INFO'].sample(n=numr, replace=True, ignore_index=True),\n",
    "    ])\n",
    "\n",
    "    val_mini = pd.concat([\n",
    "        pdfd[pdfd['label'] == 'SUPPORTS'].sample(frac=1, replace=False, ignore_index=True),\n",
    "        pdfd[pdfd['label'] == 'REFUTES'].sample(frac=1, replace=False, ignore_index=True),\n",
    "        pdfd[pdfd['label'] == 'NOT ENOUGH INFO'].sample(frac=1, replace=False, ignore_index=True),\n",
    "    ])\n",
    "\n",
    "    # Shuffling / Randomizing data\n",
    "    for _ in range(5):\n",
    "        training_mini = training_mini.sample(frac=1, replace=False, ignore_index=True)\n",
    "        val_mini = val_mini.sample(frac=1, replace=False, ignore_index=True)\n",
    "\n",
    "    print(training_mini['label'].value_counts())\n",
    "    print(val_mini['label'].value_counts())\n",
    "    dst = Dataset.from_pandas(training_mini[['claim', 'evidence', 'label']])\n",
    "    dsv = Dataset.from_pandas(val_mini[['claim', 'evidence', 'label']])\n",
    "\n",
    "    ## REDO Labels - shouldn't be too different\n",
    "    LABLES = training_mini['label'].values\n",
    "\n",
    "# Apply tokenization\n",
    "train_dataset = dst.map(\n",
    "    tokenize_fn, \n",
    "    batched=True,\n",
    "    remove_columns=dst.column_names,\n",
    ")\n",
    "val_dataset = dsv.map(\n",
    "    tokenize_fn, \n",
    "    batched=True,\n",
    "    remove_columns=dsv.column_names,\n",
    ")\n",
    "\n",
    "print(\"Data tokenized successfully!\")"
   ]
  },
  {
   "cell_type": "code",
   "execution_count": 43,
   "id": "299c9ce8",
   "metadata": {},
   "outputs": [
    {
     "data": {
      "text/plain": [
       "''"
      ]
     },
     "execution_count": 43,
     "metadata": {},
     "output_type": "execute_result"
    }
   ],
   "source": [
    "train_dataset.description"
   ]
  },
  {
   "cell_type": "code",
   "execution_count": 44,
   "id": "73b2271f",
   "metadata": {},
   "outputs": [
    {
     "name": "stdout",
     "output_type": "stream",
     "text": [
      "True\n",
      "12.6\n"
     ]
    }
   ],
   "source": [
    "print(torch.cuda.is_available())\n",
    "print(torch.version.cuda)"
   ]
  },
  {
   "cell_type": "markdown",
   "id": "8d77ab62",
   "metadata": {},
   "source": [
    "The below helped me find a mismatch in data-types between the dataset I thought I was making and what was really created...\n",
    "which the training did not like."
   ]
  },
  {
   "cell_type": "code",
   "execution_count": 45,
   "id": "b9b38ac3",
   "metadata": {},
   "outputs": [],
   "source": [
    "# Check the dataset structure after conversion from pandas\n",
    "if False:\n",
    "    print(\"Dataset columns:\", dst.column_names)\n",
    "    print(\"Dataset features:\", dst.features)\n",
    "    print(\"First example:\")\n",
    "    try:\n",
    "        print(dst[0])\n",
    "    except Exception as e:\n",
    "        print(f\"Error accessing first example: {e}\")\n",
    "\n",
    "    # Check if there are any problematic column names or types\n",
    "    for col in dst.column_names:\n",
    "        print(f\"Column '{col}' type: {type(dst[col])}\")\n",
    "        try:\n",
    "            print(f\"First value: {dst[col][0]}\")\n",
    "            print(f\"First value type: {type(dst[col][0])}\")\n",
    "        except Exception as e:\n",
    "            print(f\"Error accessing column '{col}': {e}\")\n",
    "        print(\"---\")\n",
    "\n",
    "    print(\"=\"*25)\n",
    "\n",
    "    print(\"Dataset columns:\", train_dataset.column_names)\n",
    "    print(\"Dataset features:\", train_dataset.features)\n",
    "    print(\"First example:\")\n",
    "    try:\n",
    "        print(train_dataset[0])\n",
    "    except Exception as e:\n",
    "        print(f\"Error accessing first example: {e}\")\n",
    "\n",
    "    # Check if there are any problematic column names or types\n",
    "    for col in train_dataset.column_names:\n",
    "        print(f\"Column '{col}' type: {type(train_dataset[col])}\")\n",
    "        try:\n",
    "            print(f\"First value: {train_dataset[col][0]}\")\n",
    "            print(f\"First value type: {type(train_dataset[col][0])}\")\n",
    "        except Exception as e:\n",
    "            print(f\"Error accessing column '{col}': {e}\")\n",
    "        print(\"---\")"
   ]
  },
  {
   "cell_type": "markdown",
   "id": "90e48a14",
   "metadata": {},
   "source": [
    "## Fine-Tune the Model\n",
    "\n",
    "We are doing **transfer learning** with **fine-tuning**. \n",
    "BERT was pre-trained to understand language - Thank you!\n",
    "We fine-tuning the model for a specific task - claim vs opinion here.\n",
    "The technique = Supervised learning with backpropagation\n",
    "\n",
    "Deep dive: BERT has millions of weights to understand language. We are adjusting these to suit our classification task. Only our final classification layer is learning from scratch. The rest of BERT is merely adapting instead of being completely retrained. \n",
    "BERT (I think) expects a \"[MASK]\" token to predict values. \n",
    "By fine-tuning, we add a layer like: `input text -> BERT Encoder -> Classification Head -> [Claim, Opinion] probabilities`."
   ]
  },
  {
   "cell_type": "markdown",
   "id": "36bb4d74",
   "metadata": {},
   "source": [
    "### Defining Training Arguments\n",
    "\n",
    "> I am taking most of this from the claim_extractor I made previously"
   ]
  },
  {
   "cell_type": "code",
   "execution_count": 47,
   "id": "9cf2ac56",
   "metadata": {},
   "outputs": [],
   "source": [
    "# Set up directories for saving\n",
    "datenow = datetime.now()\n",
    "timestamp = datenow.strftime(\"%Y%m%d%H%M%S\")\n",
    "\n",
    "# TODO: Give model name at top\n",
    "move_path = Path().cwd() / \"trainingresults\" / f'hide-distilbert_{timestamp}'\n",
    "out_path = Path().cwd() / \"trainingresults\" / \"latest\"\n",
    "metatdata_file_path = out_path / \"metadata.json\"\n",
    "\n",
    "# Below is the logic for moving previous versions\n",
    "if FileConfig.ToBuild:\n",
    "    if metatdata_file_path.exists():\n",
    "        # A model exists in latest already - move to it's timestamp\n",
    "\n",
    "        try:\n",
    "            with open(metatdata_file_path, 'r') as file:\n",
    "                tmp = json.load(file)\n",
    "                str_path = tmp.get('path', None)\n",
    "                assert str_path is not None\n",
    "                ts_path = Path(str_path)\n",
    "                # Moving the old model into its timestamp directory\n",
    "                out_path.rename(ts_path)\n",
    "        except Exception as e:\n",
    "            logger.warning(e)\n",
    "            # suggests something in directory didn't finish and should probably be deleted?\n",
    "        assert not out_path.exists()\n",
    "\n",
    "    ## Open cannot make the directories after I rename them...\n",
    "    out_path.mkdir(parents=True, exist_ok=True)\n",
    "\n",
    "    with open(out_path / \"metadata.json\", 'w') as file:\n",
    "        json.dump({\"path\": str(move_path), \"foundation\": FileConfig.BaseModelName, 'timestamp': datenow.isoformat(), \"version\": FileConfig.ModelVersion}, file, indent=2)"
   ]
  },
  {
   "cell_type": "code",
   "execution_count": 48,
   "id": "f2e07f32",
   "metadata": {},
   "outputs": [],
   "source": [
    "## OLD\n",
    "# training_args = TrainingArguments(\n",
    "#     output_dir=out_path, # Working directory during training for logs and checkpoints.\n",
    "#     num_train_epochs=3,              # Start with 3, adjust based on results\n",
    "#     ## batch size of 16 gets to 5.6/6GB of RTX 3060\n",
    "#     per_device_train_batch_size=8,  # Reduce if memory issues\n",
    "#     per_device_eval_batch_size=16,\n",
    "#     warmup_steps=500, # gradually increase learning rate over 1000 steps | prevents huge descrutive changes early on\n",
    "#     weight_decay=0.01, # Very mild 1% to prevent memorizing training data exactly. \n",
    "#     logging_dir='./logs',\n",
    "#     ## had set to 10 which is a lot of overhead\n",
    "#     logging_steps=20,\n",
    "#     eval_strategy=\"epoch\",\n",
    "#     save_strategy=\"epoch\",\n",
    "#     load_best_model_at_end=True,\n",
    "#     metric_for_best_model=\"eval_loss\",\n",
    "#     greater_is_better=False,\n",
    "#     dataloader_pin_memory=False, # can help with GPU transfer speed\n",
    "#     fp16=True, # mixed precision can speedup training if supported\n",
    "#     dataloader_num_workers=4, # parallel data loading\n",
    "# )\n",
    "\n",
    "# New'ish\n",
    "# I increased Epochs and changed the saving and eval strategies to Steps\n",
    "training_args = TrainingArguments(\n",
    "    output_dir=out_path, # Working directory during training for logs and checkpoints.\n",
    "    num_train_epochs=3 if FileConfig.FullRun else 1,              # Start with 3, adjust based on results\n",
    "    ## batch size of 16 gets to 5.6/6GB of RTX 3060\n",
    "    per_device_train_batch_size=4,  # Reduce if memory issues\n",
    "    per_device_eval_batch_size=4,\n",
    "    warmup_steps=1000 if FileConfig.FullRun else 50, # gradually increase learning rate over 1000 steps | prevents huge descrutive changes early on\n",
    "    weight_decay=0.01, # Very mild 1% to prevent memorizing training data exactly. \n",
    "    logging_dir='./logs',\n",
    "    ## had set to 10 which is a lot of overhead\n",
    "    logging_steps=50,\n",
    "    eval_strategy=\"steps\",\n",
    "    eval_steps=500 if FileConfig.FullRun else 100,\n",
    "    save_strategy=\"steps\",\n",
    "    save_steps=500 if FileConfig.FullRun else 100,\n",
    "    load_best_model_at_end=True,\n",
    "    metric_for_best_model=\"f1\", # Changing for balanced data\n",
    "    greater_is_better=True, # updated\n",
    "    dataloader_pin_memory=False, # can help with GPU transfer speed\n",
    "    fp16=True, # mixed precision can speedup training if supported\n",
    "    dataloader_num_workers=4, # parallel data loading\n",
    ")"
   ]
  },
  {
   "cell_type": "markdown",
   "id": "e953c8bc",
   "metadata": {},
   "source": [
    "### Define Evaluation Metrics\n",
    "\n",
    "SciKit Learn has some handy prebuilt functions."
   ]
  },
  {
   "cell_type": "code",
   "execution_count": 25,
   "id": "0fdec38f",
   "metadata": {},
   "outputs": [],
   "source": [
    "def compute_metrics(eval_pred):\n",
    "    predictions, labels = eval_pred\n",
    "    predictions = np.argmax(predictions, axis=1)\n",
    "    \n",
    "    precision, recall, f1, _ = precision_recall_fscore_support(\n",
    "        labels, predictions, average='weighted'\n",
    "    )\n",
    "    accuracy = accuracy_score(labels, predictions)\n",
    "    \n",
    "    return {\n",
    "        'accuracy': accuracy,\n",
    "        'f1': f1,\n",
    "        'precision': precision,\n",
    "        'recall': recall\n",
    "    }"
   ]
  },
  {
   "cell_type": "markdown",
   "id": "7743b935",
   "metadata": {},
   "source": [
    "### Custome Weights\n",
    "\n",
    "The data is quite unbalanced.\n",
    "There is a total of 48,205 entries:\n",
    "- supports = 31,811\n",
    "- refutes = 14,610\n",
    "- na = 1,784\n",
    "\n",
    "Rebalancing to the tiny amount is not desireable.\n",
    "The `Trainer` can take in a loss function. The signature is just 'Callable' so inside the class it takes in `(outputs, labels, num_items_in_batch)`.\n",
    "\n",
    "There are several loss functions to consider:\n",
    "- \n",
    "\n",
    "\n",
    "[SciKit-Learn's `compute_class_weight`](https://scikit-learn.org/stable/modules/generated/sklearn.utils.class_weight.compute_class_weight.html) function follows the inverse frequency approach."
   ]
  },
  {
   "cell_type": "code",
   "execution_count": 26,
   "id": "ba354733",
   "metadata": {},
   "outputs": [
    {
     "name": "stdout",
     "output_type": "stream",
     "text": [
      "0\n",
      "LabelMap.political\n",
      "1\n",
      "LabelMap.other\n"
     ]
    }
   ],
   "source": [
    "for I,J in enumerate(LabelMap):\n",
    "    print(I)\n",
    "    print(str(J))\n"
   ]
  },
  {
   "cell_type": "code",
   "execution_count": 56,
   "id": "98748903",
   "metadata": {},
   "outputs": [
    {
     "name": "stdout",
     "output_type": "stream",
     "text": [
      "tensor([1., 1., 0.], device='cuda:0')\n"
     ]
    }
   ],
   "source": [
    "def create_weights(labels):\n",
    "    unique_labels = np.unique(labels)\n",
    "    weights_balanced = compute_class_weight('balanced', classes=unique_labels, y=labels)\n",
    "    weight_tensor = torch.zeros(3)\n",
    "\n",
    "    for index, en in enumerate(LabelMap):\n",
    "        label_inx = np.where(unique_labels == en.name)[0][0]\n",
    "        weight_tensor[index] = weights_balanced[label_inx]\n",
    "    \n",
    "    return weight_tensor\n",
    "\n",
    "class_weights = create_weights(LABELS)\n",
    "class_weights = class_weights.to(model.device)\n",
    "print(class_weights)\n",
    "\n",
    "# This needs work, I don't think weights should change nor be calucated during each batch...\n",
    "def custom_weighted_loss_fn(outputs, labels, num_items_in_batch=None):\n",
    "    logits = outputs.logits # Model's raw predictions [batch_size, 3]\n",
    "\n",
    "    # Method 1: Balanced - Inverse Frequency\n",
    "    loss_fn = torch.nn.CrossEntropyLoss(weight=class_weights)\n",
    "    # This is impure function for now\n",
    "    loss = loss_fn(logits, labels)\n",
    "    return loss\n",
    "    "
   ]
  },
  {
   "cell_type": "markdown",
   "id": "93e49840",
   "metadata": {},
   "source": [
    "### Initialize and Train!"
   ]
  },
  {
   "cell_type": "code",
   "execution_count": 57,
   "id": "cd8e4dc0",
   "metadata": {},
   "outputs": [
    {
     "name": "stdout",
     "output_type": "stream",
     "text": [
      "12602\n",
      "1575\n"
     ]
    }
   ],
   "source": [
    "print(len(train_dataset))\n",
    "print(len(val_dataset))"
   ]
  },
  {
   "cell_type": "markdown",
   "id": "225f7db8",
   "metadata": {},
   "source": [
    "Randomly getting error: trying `sudo apt-get install build-essential`\n",
    "NO\n",
    "did `sudo apt-get install python3.11-dev`\n",
    "\n",
    "Seems working now..."
   ]
  },
  {
   "cell_type": "code",
   "execution_count": 58,
   "id": "e59b595b",
   "metadata": {},
   "outputs": [
    {
     "name": "stdout",
     "output_type": "stream",
     "text": [
      "Starting training...\n"
     ]
    },
    {
     "name": "stderr",
     "output_type": "stream",
     "text": [
      "huggingface/tokenizers: The current process just got forked, after parallelism has already been used. Disabling parallelism to avoid deadlocks...\n",
      "To disable this warning, you can either:\n",
      "\t- Avoid using `tokenizers` before the fork if possible\n",
      "\t- Explicitly set the environment variable TOKENIZERS_PARALLELISM=(true | false)\n",
      "huggingface/tokenizers: The current process just got forked, after parallelism has already been used. Disabling parallelism to avoid deadlocks...\n",
      "To disable this warning, you can either:\n",
      "\t- Avoid using `tokenizers` before the fork if possible\n",
      "\t- Explicitly set the environment variable TOKENIZERS_PARALLELISM=(true | false)\n",
      "huggingface/tokenizers: The current process just got forked, after parallelism has already been used. Disabling parallelism to avoid deadlocks...\n",
      "To disable this warning, you can either:\n",
      "\t- Avoid using `tokenizers` before the fork if possible\n",
      "\t- Explicitly set the environment variable TOKENIZERS_PARALLELISM=(true | false)\n",
      "huggingface/tokenizers: The current process just got forked, after parallelism has already been used. Disabling parallelism to avoid deadlocks...\n",
      "To disable this warning, you can either:\n",
      "\t- Avoid using `tokenizers` before the fork if possible\n",
      "\t- Explicitly set the environment variable TOKENIZERS_PARALLELISM=(true | false)\n"
     ]
    },
    {
     "data": {
      "text/html": [
       "\n",
       "    <div>\n",
       "      \n",
       "      <progress value='2000' max='9453' style='width:300px; height:20px; vertical-align: middle;'></progress>\n",
       "      [2000/9453 02:50 < 10:36, 11.70 it/s, Epoch 0/3]\n",
       "    </div>\n",
       "    <table border=\"1\" class=\"dataframe\">\n",
       "  <thead>\n",
       " <tr style=\"text-align: left;\">\n",
       "      <th>Step</th>\n",
       "      <th>Training Loss</th>\n",
       "      <th>Validation Loss</th>\n",
       "      <th>Accuracy</th>\n",
       "      <th>F1</th>\n",
       "      <th>Precision</th>\n",
       "      <th>Recall</th>\n",
       "    </tr>\n",
       "  </thead>\n",
       "  <tbody>\n",
       "    <tr>\n",
       "      <td>500</td>\n",
       "      <td>0.122900</td>\n",
       "      <td>0.034819</td>\n",
       "      <td>0.993651</td>\n",
       "      <td>0.993651</td>\n",
       "      <td>0.993702</td>\n",
       "      <td>0.993651</td>\n",
       "    </tr>\n",
       "    <tr>\n",
       "      <td>1000</td>\n",
       "      <td>0.006000</td>\n",
       "      <td>0.039693</td>\n",
       "      <td>0.992381</td>\n",
       "      <td>0.992381</td>\n",
       "      <td>0.992432</td>\n",
       "      <td>0.992381</td>\n",
       "    </tr>\n",
       "    <tr>\n",
       "      <td>1500</td>\n",
       "      <td>0.062400</td>\n",
       "      <td>0.055382</td>\n",
       "      <td>0.992381</td>\n",
       "      <td>0.992381</td>\n",
       "      <td>0.992495</td>\n",
       "      <td>0.992381</td>\n",
       "    </tr>\n",
       "    <tr>\n",
       "      <td>2000</td>\n",
       "      <td>0.000300</td>\n",
       "      <td>0.089640</td>\n",
       "      <td>0.987937</td>\n",
       "      <td>0.987935</td>\n",
       "      <td>0.988221</td>\n",
       "      <td>0.987937</td>\n",
       "    </tr>\n",
       "  </tbody>\n",
       "</table><p>"
      ],
      "text/plain": [
       "<IPython.core.display.HTML object>"
      ]
     },
     "metadata": {},
     "output_type": "display_data"
    },
    {
     "name": "stderr",
     "output_type": "stream",
     "text": [
      "huggingface/tokenizers: The current process just got forked, after parallelism has already been used. Disabling parallelism to avoid deadlocks...\n",
      "To disable this warning, you can either:\n",
      "\t- Avoid using `tokenizers` before the fork if possible\n",
      "\t- Explicitly set the environment variable TOKENIZERS_PARALLELISM=(true | false)\n",
      "huggingface/tokenizers: The current process just got forked, after parallelism has already been used. Disabling parallelism to avoid deadlocks...\n",
      "To disable this warning, you can either:\n",
      "\t- Avoid using `tokenizers` before the fork if possible\n",
      "\t- Explicitly set the environment variable TOKENIZERS_PARALLELISM=(true | false)\n",
      "huggingface/tokenizers: The current process just got forked, after parallelism has already been used. Disabling parallelism to avoid deadlocks...\n",
      "To disable this warning, you can either:\n",
      "\t- Avoid using `tokenizers` before the fork if possible\n",
      "\t- Explicitly set the environment variable TOKENIZERS_PARALLELISM=(true | false)\n",
      "huggingface/tokenizers: The current process just got forked, after parallelism has already been used. Disabling parallelism to avoid deadlocks...\n",
      "To disable this warning, you can either:\n",
      "\t- Avoid using `tokenizers` before the fork if possible\n",
      "\t- Explicitly set the environment variable TOKENIZERS_PARALLELISM=(true | false)\n",
      "huggingface/tokenizers: The current process just got forked, after parallelism has already been used. Disabling parallelism to avoid deadlocks...\n",
      "To disable this warning, you can either:\n",
      "\t- Avoid using `tokenizers` before the fork if possible\n",
      "\t- Explicitly set the environment variable TOKENIZERS_PARALLELISM=(true | false)\n",
      "huggingface/tokenizers: The current process just got forked, after parallelism has already been used. Disabling parallelism to avoid deadlocks...\n",
      "To disable this warning, you can either:\n",
      "\t- Avoid using `tokenizers` before the fork if possible\n",
      "\t- Explicitly set the environment variable TOKENIZERS_PARALLELISM=(true | false)\n",
      "huggingface/tokenizers: The current process just got forked, after parallelism has already been used. Disabling parallelism to avoid deadlocks...\n",
      "To disable this warning, you can either:\n",
      "\t- Avoid using `tokenizers` before the fork if possible\n",
      "\t- Explicitly set the environment variable TOKENIZERS_PARALLELISM=(true | false)\n",
      "huggingface/tokenizers: The current process just got forked, after parallelism has already been used. Disabling parallelism to avoid deadlocks...\n",
      "To disable this warning, you can either:\n",
      "\t- Avoid using `tokenizers` before the fork if possible\n",
      "\t- Explicitly set the environment variable TOKENIZERS_PARALLELISM=(true | false)\n",
      "huggingface/tokenizers: The current process just got forked, after parallelism has already been used. Disabling parallelism to avoid deadlocks...\n",
      "To disable this warning, you can either:\n",
      "\t- Avoid using `tokenizers` before the fork if possible\n",
      "\t- Explicitly set the environment variable TOKENIZERS_PARALLELISM=(true | false)\n",
      "huggingface/tokenizers: The current process just got forked, after parallelism has already been used. Disabling parallelism to avoid deadlocks...\n",
      "To disable this warning, you can either:\n",
      "\t- Avoid using `tokenizers` before the fork if possible\n",
      "\t- Explicitly set the environment variable TOKENIZERS_PARALLELISM=(true | false)\n",
      "huggingface/tokenizers: The current process just got forked, after parallelism has already been used. Disabling parallelism to avoid deadlocks...\n",
      "To disable this warning, you can either:\n",
      "\t- Avoid using `tokenizers` before the fork if possible\n",
      "\t- Explicitly set the environment variable TOKENIZERS_PARALLELISM=(true | false)\n",
      "huggingface/tokenizers: The current process just got forked, after parallelism has already been used. Disabling parallelism to avoid deadlocks...\n",
      "To disable this warning, you can either:\n",
      "\t- Avoid using `tokenizers` before the fork if possible\n",
      "\t- Explicitly set the environment variable TOKENIZERS_PARALLELISM=(true | false)\n",
      "huggingface/tokenizers: The current process just got forked, after parallelism has already been used. Disabling parallelism to avoid deadlocks...\n",
      "To disable this warning, you can either:\n",
      "\t- Avoid using `tokenizers` before the fork if possible\n",
      "\t- Explicitly set the environment variable TOKENIZERS_PARALLELISM=(true | false)\n",
      "huggingface/tokenizers: The current process just got forked, after parallelism has already been used. Disabling parallelism to avoid deadlocks...\n",
      "To disable this warning, you can either:\n",
      "\t- Avoid using `tokenizers` before the fork if possible\n",
      "\t- Explicitly set the environment variable TOKENIZERS_PARALLELISM=(true | false)\n",
      "huggingface/tokenizers: The current process just got forked, after parallelism has already been used. Disabling parallelism to avoid deadlocks...\n",
      "To disable this warning, you can either:\n",
      "\t- Avoid using `tokenizers` before the fork if possible\n",
      "\t- Explicitly set the environment variable TOKENIZERS_PARALLELISM=(true | false)\n",
      "huggingface/tokenizers: The current process just got forked, after parallelism has already been used. Disabling parallelism to avoid deadlocks...\n",
      "To disable this warning, you can either:\n",
      "\t- Avoid using `tokenizers` before the fork if possible\n",
      "\t- Explicitly set the environment variable TOKENIZERS_PARALLELISM=(true | false)\n"
     ]
    },
    {
     "name": "stdout",
     "output_type": "stream",
     "text": [
      "Model saved!\n",
      "Cleaning up Checkpoints...\n",
      "Clean up complete!\n"
     ]
    }
   ],
   "source": [
    "# Create trainer\n",
    "trainer = Trainer(\n",
    "    model=model,\n",
    "    args=training_args,\n",
    "    train_dataset=train_dataset,\n",
    "    eval_dataset=val_dataset,\n",
    "    data_collator=data_collator if FileConfig.UsePadding else None,\n",
    "    compute_metrics=compute_metrics,\n",
    "    compute_loss_func=custom_weighted_loss_fn if FileConfig.CustomLossFn else None,\n",
    "    callbacks=[EarlyStoppingCallback(early_stopping_patience=3)], # if no improvements\n",
    "    optimizers=(None, None), # Letting Trainer handle optimizer\n",
    ")\n",
    "\n",
    "# Start training\n",
    "print(\"Starting training...\")\n",
    "if FileConfig.ToBuild:\n",
    "    trainer.train()\n",
    "    # Save the model\n",
    "    trainer.save_model(out_path) # Where to save model weights and config\n",
    "    tokenizer.save_pretrained(out_path) # for tokenizer stuff\n",
    "    print(\"Model saved!\")\n",
    "    print(\"Cleaning up Checkpoints...\")\n",
    "    checkpoint_dirs = glob.glob(f\"{out_path}/checkpoint-*\")\n",
    "    for checkpoint_dir in checkpoint_dirs:\n",
    "        shutil.rmtree(checkpoint_dir)\n",
    "    print(\"Clean up complete!\")"
   ]
  },
  {
   "cell_type": "markdown",
   "id": "4613dcc8",
   "metadata": {},
   "source": [
    "## Test the Model\n",
    "\n",
    "This is kind of the manual process I suppose for the time being."
   ]
  },
  {
   "cell_type": "markdown",
   "id": "85ac0fe1",
   "metadata": {},
   "source": [
    "### Loading Model"
   ]
  },
  {
   "cell_type": "markdown",
   "id": "9afb15bd",
   "metadata": {},
   "source": [
    "Loading from hugging face consumes too much VRAM"
   ]
  },
  {
   "cell_type": "code",
   "execution_count": 27,
   "id": "d988c3e1",
   "metadata": {},
   "outputs": [],
   "source": [
    "class TextClassifier:\n",
    "    def __init__(self, model_path):\n",
    "        self.tokenizer = AutoTokenizer.from_pretrained(model_path)\n",
    "        # Ensure token length\n",
    "        self.tokenizer.model_max_length = FileConfig.MaxTokens\n",
    "        self.model = AutoModelForSequenceClassification.from_pretrained(\n",
    "            model_path,\n",
    "            torch_dtype=torch.float16,\n",
    "            device_map=FileConfig.Hardware,\n",
    "        )\n",
    "        self.model.eval()\n",
    "    \n",
    "    def __call__(self, text):\n",
    "        # To not track gradients to save memory - don't need back propagation\n",
    "        with torch.no_grad():\n",
    "            inputs = self.tokenizer(\n",
    "                text, \n",
    "                return_tensors=\"pt\", \n",
    "                truncation=True,\n",
    "                # max_length=FileConfig.MaxTokens, \n",
    "                padding=True\n",
    "            )\n",
    "            inputs = {k: v.to(FileConfig.Hardware) for k, v in inputs.items()}\n",
    "            outputs = self.model(**inputs)\n",
    "            \n",
    "            # Format like pipeline output\n",
    "            probs = torch.nn.functional.softmax(outputs.logits, dim=-1)\n",
    "            pred_id = torch.argmax(probs, dim=-1).item()\n",
    "            \n",
    "            # Same as Hugging Face\n",
    "            return [{\n",
    "                'label': self.model.config.id2label[pred_id],\n",
    "                'score': probs[0][pred_id].item()\n",
    "            }]\n"
   ]
  },
  {
   "cell_type": "code",
   "execution_count": 29,
   "id": "0e41e3fc",
   "metadata": {},
   "outputs": [
    {
     "name": "stdout",
     "output_type": "stream",
     "text": [
      "\n",
      "\n"
     ]
    }
   ],
   "source": [
    "print(\"\\n\")\n",
    "# Load your fine-tuned model\n",
    "# TODO: UPDATE!!!\n",
    "out_path = Path('.').resolve() / \"trainingresults\" / \"latest\"\n",
    "if False:\n",
    "    the_judge = pipeline(\n",
    "        task=\"text-classification\",\n",
    "        model=str(out_path),\n",
    "        tokenizer=str(out_path),\n",
    "        device=FileConfig.Hardware,\n",
    "        # For memory:\n",
    "        torch_dtype=torch.float16,\n",
    "        model_kwargs={\"torch_dtype\": torch.float16},\n",
    "        tokenizer_kwargs={\"max_length\": 1012, \"truncation\": True}  # Force this length\n",
    "    )\n",
    "else:\n",
    "    the_detective = TextClassifier(str(out_path))"
   ]
  },
  {
   "cell_type": "markdown",
   "id": "3ed64475",
   "metadata": {},
   "source": [
    "Making up some claims and support for manual testing"
   ]
  },
  {
   "cell_type": "code",
   "execution_count": 30,
   "id": "547d7674",
   "metadata": {},
   "outputs": [],
   "source": [
    "fake_test_data = [\n",
    "    # SUPPORTS - 4 claims\n",
    "    {\n",
    "        \"id\": 1,\n",
    "        \"claim\": \"The 2024 US presidential election had the highest voter turnout in history.\",\n",
    "        \"evidence\": [\n",
    "            \"According to the Federal Election Commission, approximately 158 million Americans voted in the 2024 presidential election. This surpassed the previous record of 155 million voters set in 2020. Election officials reported that turnout reached 66.8% of eligible voters, marking a new milestone in American electoral participation.\",\n",
    "        ],\n",
    "        \"label\": \"SUPPORTS\",\n",
    "        \"context\": \"Short and factual about voter turnout.\"\n",
    "    },\n",
    "    {\n",
    "        \"id\": 2, \n",
    "        \"claim\": \"Social Security benefits increased by 3.2% in 2024.\",\n",
    "        \"evidence\": [\n",
    "            \"The Social Security Administration announced a 3.2% cost-of-living adjustment for 2024 benefits. This increase affects over 67 million Social Security beneficiaries and 7 million SSI recipients. The adjustment was based on the Consumer Price Index data from the third quarter of 2023.\",\n",
    "        ],\n",
    "        \"label\": \"SUPPORTS\",\n",
    "        \"context\": \"Matching percentages.\"\n",
    "    },\n",
    "    {\n",
    "        \"id\": 3,\n",
    "        \"claim\": \"The federal minimum wage in America is $7.25 per hour.\",\n",
    "        \"evidence\": [\n",
    "            \"The federal minimum wage has remained at $7.25 per hour since July 2009, when it was last increased under the Fair Minimum Wage Act. While many states have implemented higher minimum wages, the federal rate serves as the baseline for all states. Congressional attempts to raise the federal minimum wage to $15 per hour have stalled in recent legislative sessions.\",\n",
    "        ],\n",
    "        \"label\": \"SUPPORTS\",\n",
    "        \"context\": \"Simple fact about minimum wage.\"\n",
    "    },\n",
    "    {\n",
    "        \"id\": 4,\n",
    "        \"claim\": \"Medicare covers prescription drug costs for seniors.\",\n",
    "        \"evidence\": [\n",
    "            \"Medicare Part D provides prescription drug coverage for Medicare beneficiaries, covering approximately 63 million seniors and disabled individuals. The program was established in 2006 and helps reduce out-of-pocket prescription costs. Recent legislation has also capped annual prescription drug costs at $2,000 starting in 2025 for Medicare recipients.\",\n",
    "        ],\n",
    "        \"label\": \"SUPPORTS\",\n",
    "        \"context\": \"More evidence for slightly more vague claim.\"\n",
    "    },\n",
    "    # REFUTES - 4 claims  \n",
    "    {\n",
    "        \"id\": 5,\n",
    "        \"claim\": \"The US Constitution requires congressional approval for all military deployments overseas.\",\n",
    "        \"evidence\": [\n",
    "            \"The Constitution grants Congress the power to declare war, but does not require congressional approval for all military actions. The President, as Commander in Chief, has authority to deploy troops for limited periods without congressional authorization. The War Powers Resolution of 1973 requires congressional approval only for deployments lasting more than 60 days.\",\n",
    "        ],\n",
    "        \"label\": \"REFUTES\",\n",
    "        \"context\": \"A constitutional misconception.\"\n",
    "    },\n",
    "    {\n",
    "        \"id\": 6,\n",
    "        \"claim\": \"Climate change legislation was passed by Congress in 2023 with bipartisan support.\",\n",
    "        \"evidence\": [\n",
    "            \"No major climate change legislation received bipartisan support in Congress during 2023. The Inflation Reduction Act, which included climate provisions, was passed in 2022 with only Democratic votes. Several climate-related bills were introduced in 2023 but failed to advance due to partisan disagreements over implementation and funding mechanisms.\",\n",
    "        ],\n",
    "        \"label\": \"REFUTES\",\n",
    "        \"context\": \"A false bipartisan claim about climate legislation.\"\n",
    "    },\n",
    "    {\n",
    "        \"id\": 7,\n",
    "        \"claim\": \"The federal deficit decreased by 50% in 2024.\",\n",
    "        \"evidence\": [\n",
    "            \"The Congressional Budget Office reported that the federal deficit increased by approximately 8% in fiscal year 2024, reaching $1.9 trillion. This represents a significant increase from the previous year's deficit of $1.7 trillion. Rising interest payments on national debt and increased government spending contributed to the larger deficit.\",\n",
    "        ],\n",
    "        \"label\": \"REFUTES\",\n",
    "        \"context\": \"A favourite for some, incorrect percentages.\"\n",
    "    },\n",
    "    {\n",
    "        \"id\": 8,\n",
    "        \"claim\": \"All Supreme Court justices must be confirmed by a two-thirds majority in the Senate.\",\n",
    "        \"evidence\": [\n",
    "            \"Supreme Court nominees require only a simple majority vote for confirmation in the Senate, not a two-thirds majority. This threshold was established by Senate rules and precedent. The confirmation process involves Senate Judiciary Committee hearings followed by a full Senate vote, where 51 votes are sufficient for confirmation.\",\n",
    "        ],\n",
    "        \"label\": \"REFUTES\",\n",
    "        \"context\": \"Incorrect claim about voting threshold.\"\n",
    "    },\n",
    "    # NOT ENOUGH INFO - 2 claims\n",
    "    {\n",
    "        \"id\": 9,\n",
    "        \"claim\": \"The new infrastructure bill will create 500,000 jobs in rural communities specifically.\",\n",
    "        \"evidence\": [\n",
    "            \"The Infrastructure Investment and Jobs Act allocated $1.2 trillion for various infrastructure projects across the United States. The legislation includes funding for roads, bridges, broadband expansion, and water systems. Economic analysts project the bill will create millions of jobs nationwide over the next decade, with significant benefits expected for both urban and rural areas.\",\n",
    "        ],\n",
    "        \"label\": \"NOT ENOUGH INFO\",\n",
    "        \"context\": \"Evidence is about the project but without the supporting figures.\"\n",
    "    },\n",
    "    {\n",
    "        \"id\": 10,\n",
    "        \"claim\": \"Congressional approval ratings reached their lowest point since 1974 last month.\",\n",
    "        \"evidence\": [\n",
    "            \"Recent polling shows Congress has historically low approval ratings, with multiple surveys indicating public dissatisfaction with legislative performance. Gallup polling has tracked congressional approval since the 1970s, showing significant fluctuations over the decades. Political polarization and gridlock have contributed to declining public confidence in the institution.\",\n",
    "        ],\n",
    "        \"label\": \"NOT ENOUGH INFO\",\n",
    "        \"context\": \"Evidence does not specify exact timeframe nor comparison to 1974.\"\n",
    "    },\n",
    "    {\n",
    "        \"id\": 11,\n",
    "        \"claim\": \"Trump and Putin are meeting in Alaska to talk about ending the war in Ukraine.\",\n",
    "        \"evidence\": [],\n",
    "        \"label\": \"NOT ENOUGH INFO\",\n",
    "        \"context\": \"Very recent news as of today, withholding evidence even though it does techincally exist.\"\n",
    "    }\n",
    "]\n",
    "\n"
   ]
  },
  {
   "cell_type": "markdown",
   "id": "426c3350",
   "metadata": {},
   "source": [
    "Above: I was going to do the multiple sentences but when we pass data into the model I zip them up anyways so... it's half done for now."
   ]
  },
  {
   "cell_type": "code",
   "execution_count": 31,
   "id": "71771094",
   "metadata": {},
   "outputs": [
    {
     "name": "stdout",
     "output_type": "stream",
     "text": [
      "Test Dataset Summary:\n",
      "Total samples: 11\n",
      "\n",
      "Label Distribution:\n",
      "SUPPORTS: 4\n",
      "REFUTES: 4\n",
      "NOT ENOUGH INFO: 3\n",
      "\n",
      "Claim Length Statistics:\n",
      "Average claim length: 71 characters\n",
      "Shortest claim: 45 characters\n",
      "Longest claim: 90 characters\n"
     ]
    }
   ],
   "source": [
    "# Create DataFrame and Dataset\n",
    "def create_fake_dataset():\n",
    "    \"\"\"Create fake dataset for testing judge model\"\"\"\n",
    "    df = pd.DataFrame(fake_test_data)\n",
    "    \n",
    "    print(\"Test Dataset Summary:\")\n",
    "    print(f\"Total samples: {len(df)}\")\n",
    "    print(\"\\nLabel Distribution:\")\n",
    "    label_counts = df['label'].value_counts()\n",
    "    for label, count in label_counts.items():\n",
    "        print(f\"{label}: {count}\")\n",
    "    \n",
    "    print(\"\\nClaim Length Statistics:\")\n",
    "    df['claim_length'] = df['claim'].str.len()\n",
    "    print(f\"Average claim length: {df['claim_length'].mean():.0f} characters\")\n",
    "    print(f\"Shortest claim: {df['claim_length'].min()} characters\")\n",
    "    print(f\"Longest claim: {df['claim_length'].max()} characters\")\n",
    "    \n",
    "    return Dataset.from_pandas(df)\n",
    "\n",
    "# Create the dataset\n",
    "test_dataset = create_fake_dataset()"
   ]
  },
  {
   "cell_type": "code",
   "execution_count": 32,
   "id": "d50022e5",
   "metadata": {},
   "outputs": [
    {
     "name": "stdout",
     "output_type": "stream",
     "text": [
      "TEST CASE: 01\n",
      "Claim: The 2024 US presidential election had the highest voter turnout in history.\n",
      "Evidence: \n",
      "  According to the Federal Election Commission, approximately 158 million Americans voted in the 2024 presidential election. This surpassed the previous record of 155 million voters set in 2020. Election officials reported that turnout reached 66.8% of eligible voters, marking a new milestone in American electoral participation.\n",
      "Label: SUPPORTS\n",
      "ABOUT: Short and factual about voter turnout.\n"
     ]
    },
    {
     "ename": "TypeError",
     "evalue": "data_transform() takes 1 positional argument but 2 were given",
     "output_type": "error",
     "traceback": [
      "\u001b[31m---------------------------------------------------------------------------\u001b[39m",
      "\u001b[31mTypeError\u001b[39m                                 Traceback (most recent call last)",
      "\u001b[36mCell\u001b[39m\u001b[36m \u001b[39m\u001b[32mIn[32]\u001b[39m\u001b[32m, line 11\u001b[39m\n\u001b[32m      9\u001b[39m \u001b[38;5;28mprint\u001b[39m(\u001b[33mf\u001b[39m\u001b[33m\"\u001b[39m\u001b[33mLabel: \u001b[39m\u001b[38;5;132;01m{\u001b[39;00mexpected\u001b[38;5;132;01m}\u001b[39;00m\u001b[33m\"\u001b[39m)\n\u001b[32m     10\u001b[39m \u001b[38;5;28mprint\u001b[39m(\u001b[33mf\u001b[39m\u001b[33m\"\u001b[39m\u001b[33mABOUT: \u001b[39m\u001b[38;5;132;01m{\u001b[39;00mtc[\u001b[33m'\u001b[39m\u001b[33mcontext\u001b[39m\u001b[33m'\u001b[39m]\u001b[38;5;132;01m}\u001b[39;00m\u001b[33m\"\u001b[39m)\n\u001b[32m---> \u001b[39m\u001b[32m11\u001b[39m fixed = \u001b[43mdata_transform\u001b[49m\u001b[43m(\u001b[49m\u001b[43mtc\u001b[49m\u001b[43m[\u001b[49m\u001b[33;43m'\u001b[39;49m\u001b[33;43mclaim\u001b[39;49m\u001b[33;43m'\u001b[39;49m\u001b[43m]\u001b[49m\u001b[43m,\u001b[49m\u001b[43m \u001b[49m\u001b[43mtc\u001b[49m\u001b[43m[\u001b[49m\u001b[33;43m'\u001b[39;49m\u001b[33;43mevidence\u001b[39;49m\u001b[33;43m'\u001b[39;49m\u001b[43m]\u001b[49m\u001b[43m)\u001b[49m\n\u001b[32m     12\u001b[39m result_list = the_judge(fixed)\n\u001b[32m     13\u001b[39m result = result_list[\u001b[32m0\u001b[39m]\n",
      "\u001b[31mTypeError\u001b[39m: data_transform() takes 1 positional argument but 2 were given"
     ]
    }
   ],
   "source": [
    "# for each test_case\n",
    "for tc in test_dataset:\n",
    "    print(f\"TEST CASE: {tc['id']:02}\")\n",
    "    print(f\"Claim: {tc['claim']}\")\n",
    "    print(f\"Evidence: \")\n",
    "    for x in [y for y in tc['evidence']]:\n",
    "        print(f\"  {x}\")\n",
    "    expected = tc['label']\n",
    "    print(f\"Label: {expected}\")\n",
    "    print(f\"ABOUT: {tc['context']}\")\n",
    "    fixed = data_transform(tc['claim'], tc['evidence'])\n",
    "    result_list = the_judge(fixed)\n",
    "    result = result_list[0]\n",
    "    print(\"RESULT:\", json.dumps(result, indent=2))\n",
    "    actual = result.get('label')\n",
    "    if \"0\" in actual:\n",
    "        actual = \"SUPPORTS\"\n",
    "    elif \"1\" in actual:\n",
    "        actual = \"REFUTES\"\n",
    "    elif \"2\" in actual:\n",
    "        actual = \"NOT ENOUGH INFO\"\n",
    "    else:\n",
    "        actual = \"ERROR - WHAT?!?\"\n",
    "    print()\n",
    "    correct = actual == expected\n",
    "    if correct:\n",
    "        print(f\"✅ PREDICTED: {actual} | ACTUAL: {tc['label']}\")\n",
    "    else:\n",
    "        print(f\"❌ PREDICTED: {actual} | ACTUAL: {tc['label']}\")\n",
    "    print()"
   ]
  },
  {
   "cell_type": "markdown",
   "id": "1db0b54b",
   "metadata": {},
   "source": [
    "I know the validation data shouldn't be used, but just checking here for fun..."
   ]
  },
  {
   "cell_type": "code",
   "execution_count": 33,
   "id": "64e6bf55",
   "metadata": {},
   "outputs": [
    {
     "name": "stdout",
     "output_type": "stream",
     "text": [
      "Validation Data\n",
      "label\n",
      "other        788\n",
      "political    787\n",
      "Name: count, dtype: int64\n",
      "{\n",
      "  \"accuracy\": 0.9911111111111112,\n",
      "  \"f1\": 0.9911105520741168,\n",
      "  \"precision\": 0.9912250896057349,\n",
      "  \"recall\": 0.9911111111111112\n",
      "}\n"
     ]
    }
   ],
   "source": [
    "t_preds = []\n",
    "t_labels = []\n",
    "\n",
    "# I've created pdfv - never seen before.\n",
    "\n",
    "if not FileConfig.FullRun:\n",
    "    print('Minifying Validation Dataset')\n",
    "    min_n = min(pdfd['label'].value_counts())\n",
    "    min_n = 100\n",
    "    pdfv = pd.concat([\n",
    "            pdfv[pdfv['label'] == 'SUPPORTS'].sample(n=min_n, replace=False, ignore_index=True),\n",
    "            pdfv[pdfv['label'] == 'REFUTES'].sample(n=min_n, replace=False, ignore_index=True),\n",
    "            pdfv[pdfv['label'] == 'NOT ENOUGH INFO'].sample(n=min_n, replace=False, ignore_index=True),\n",
    "        ])\n",
    "\n",
    "print('Validation Data')\n",
    "print(pdfv['label'].value_counts())\n",
    "\n",
    "for _, row in pdfv.iterrows():\n",
    "    result_list = the_detective(row['input'])\n",
    "    result = result_list[0]\n",
    "    actual = result.get('label')\n",
    "    expected = row['label']\n",
    "    if \"0\" in actual:\n",
    "        actual = \"political\"\n",
    "    elif \"1\" in actual:\n",
    "        actual = \"other\"\n",
    "    else:\n",
    "        actual = \"ERROR - WHAT?!?\"\n",
    "    t_preds.append(actual)\n",
    "    t_labels.append(expected)\n",
    "\n",
    "def compute_metrics_simple(predicted_values: List[str], actual_values: List[str]):\n",
    "    precision, recall, f1, _ = precision_recall_fscore_support(\n",
    "        actual_values, predicted_values, average='weighted'\n",
    "    )\n",
    "    accuracy = accuracy_score(actual_values, predicted_values)\n",
    "    \n",
    "    return {\n",
    "        'accuracy': accuracy,\n",
    "        'f1': f1,\n",
    "        'precision': precision,\n",
    "        'recall': recall\n",
    "    }\n",
    "test_results = compute_metrics_simple(t_preds, t_labels)\n",
    "print(json.dumps(test_results, indent=2))"
   ]
  },
  {
   "cell_type": "code",
   "execution_count": 34,
   "id": "fa2d494f",
   "metadata": {},
   "outputs": [
    {
     "name": "stdout",
     "output_type": "stream",
     "text": [
      "label\n",
      "other        788\n",
      "political    787\n",
      "Name: count, dtype: int64\n",
      "\n",
      "1575\n",
      "\n",
      "{\n",
      "  \"political\": {\n",
      "    \"political\": 774,\n",
      "    \"other\": 1\n",
      "  },\n",
      "  \"other\": {\n",
      "    \"other\": 787,\n",
      "    \"political\": 13\n",
      "  }\n",
      "}\n"
     ]
    }
   ],
   "source": [
    "print(pdfv['label'].value_counts())\n",
    "print()\n",
    "print(len(t_preds))\n",
    "print()\n",
    "mycounts = {}\n",
    "for exp, act in zip(t_preds, t_labels):\n",
    "    try:\n",
    "        mycounts[exp][act] += 1\n",
    "    except:\n",
    "        one = mycounts.get(exp)\n",
    "        if one is None:\n",
    "            mycounts[exp] = {}\n",
    "        mycounts[exp][act] = 1\n",
    "\n",
    "print(json.dumps(mycounts, indent=2))"
   ]
  },
  {
   "cell_type": "code",
   "execution_count": 35,
   "id": "e0240c91",
   "metadata": {},
   "outputs": [
    {
     "name": "stdout",
     "output_type": "stream",
     "text": [
      "[CLS] I really hope I live to see a {{USERNAME}} Presidency. I love that man so much #Politics 🇺🇸 [SEP]\n",
      "[CLS] ️Michael Owen s Premier League accumulator for today.  See what {{USERNAME}} has predicted will happen in the final matches today.  ⭐️Odds - 13/2. £5 bet wins £37.50 Betslip link included  Read his tips > {{URL}} #PremierLeague [SEP]\n",
      "[CLS] im listening to watermelon sugar n i got goosebumps...LITERAL goosebumps. ur amazing. i love you. {{USERNAME}} [SEP]\n",
      "[CLS]  {{URL}} 5 man down! I repeat 5 man down! Slow and steady wins the fight, but dont do what these guys did. Dont let someone push up stairs and take you down! #EscapefromTarkov {{USERNAME}} #twitch [SEP]\n",
      "[CLS] Xbox Battle Predicts the 49ers to Win the Big Game as {{USERNAME}} Defeats {{USERNAME}} in {{USERNAME}} 20 Preview of Sunday’s Showdown!  #SBLIV {{URL}} [SEP]\n",
      "[CLS] #1 Inspirational Station On The Internet Ver na Jones {{USERNAME}} - Uncoditional Promo - Visit: {{URL}} Listen online at {{URL}} [SEP]\n"
     ]
    }
   ],
   "source": [
    "cnt = 0\n",
    "for i, r in pdfv.iterrows():\n",
    "    print(r['input'])\n",
    "    cnt += 1\n",
    "    if cnt > 5:\n",
    "        break"
   ]
  },
  {
   "cell_type": "code",
   "execution_count": null,
   "id": "f852be17",
   "metadata": {},
   "outputs": [],
   "source": []
  }
 ],
 "metadata": {
  "kernelspec": {
   "display_name": ".venv",
   "language": "python",
   "name": "python3"
  },
  "language_info": {
   "codemirror_mode": {
    "name": "ipython",
    "version": 3
   },
   "file_extension": ".py",
   "mimetype": "text/x-python",
   "name": "python",
   "nbconvert_exporter": "python",
   "pygments_lexer": "ipython3",
   "version": "3.11.13"
  }
 },
 "nbformat": 4,
 "nbformat_minor": 5
}
