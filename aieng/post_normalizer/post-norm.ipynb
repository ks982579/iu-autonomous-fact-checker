{
 "cells": [
  {
   "cell_type": "markdown",
   "id": "ba735b80",
   "metadata": {},
   "source": [
    "# Post Normalization\n",
    "\n",
    "Trying to find a reuse a model to keep the development process simple.\n",
    "\n",
    "Spelling is not a huge issue at the moment. \n",
    "From manual testing, politically aligned content is usually ok."
   ]
  },
  {
   "cell_type": "code",
   "execution_count": 1,
   "id": "3d717029",
   "metadata": {},
   "outputs": [],
   "source": [
    "from transformers import pipeline"
   ]
  },
  {
   "cell_type": "markdown",
   "id": "71e45900",
   "metadata": {},
   "source": [
    "[Spelling Correction English Model](https://huggingface.co/oliverguhr/spelling-correction-english-base) \n",
    "\n",
    "Clever to generate data they took good spelling and made bad spelling out of it. "
   ]
  },
  {
   "cell_type": "code",
   "execution_count": null,
   "id": "ec47e03f",
   "metadata": {},
   "outputs": [
    {
     "data": {
      "application/vnd.jupyter.widget-view+json": {
       "model_id": "d7d23e5e1f0c4f1db7e610214c510083",
       "version_major": 2,
       "version_minor": 0
      },
      "text/plain": [
       "config.json: 0.00B [00:00, ?B/s]"
      ]
     },
     "metadata": {},
     "output_type": "display_data"
    },
    {
     "data": {
      "application/vnd.jupyter.widget-view+json": {
       "model_id": "38d822fcfdfe4395a2b3d8e790b35f3a",
       "version_major": 2,
       "version_minor": 0
      },
      "text/plain": [
       "model.safetensors:   0%|          | 0.00/558M [00:00<?, ?B/s]"
      ]
     },
     "metadata": {},
     "output_type": "display_data"
    },
    {
     "data": {
      "application/vnd.jupyter.widget-view+json": {
       "model_id": "917d068e2cb546a88e230b9271e2a3aa",
       "version_major": 2,
       "version_minor": 0
      },
      "text/plain": [
       "tokenizer_config.json:   0%|          | 0.00/353 [00:00<?, ?B/s]"
      ]
     },
     "metadata": {},
     "output_type": "display_data"
    },
    {
     "data": {
      "application/vnd.jupyter.widget-view+json": {
       "model_id": "f590cb5015bf43759425b275d9efe934",
       "version_major": 2,
       "version_minor": 0
      },
      "text/plain": [
       "vocab.json: 0.00B [00:00, ?B/s]"
      ]
     },
     "metadata": {},
     "output_type": "display_data"
    },
    {
     "data": {
      "application/vnd.jupyter.widget-view+json": {
       "model_id": "e89b13f53f1b45f0989c489c389b354f",
       "version_major": 2,
       "version_minor": 0
      },
      "text/plain": [
       "merges.txt: 0.00B [00:00, ?B/s]"
      ]
     },
     "metadata": {},
     "output_type": "display_data"
    },
    {
     "data": {
      "application/vnd.jupyter.widget-view+json": {
       "model_id": "cf6b1a4b0fb7441486fbc126788de1c2",
       "version_major": 2,
       "version_minor": 0
      },
      "text/plain": [
       "tokenizer.json: 0.00B [00:00, ?B/s]"
      ]
     },
     "metadata": {},
     "output_type": "display_data"
    },
    {
     "data": {
      "application/vnd.jupyter.widget-view+json": {
       "model_id": "d4345e4ef6e14a9184854294dc62ba6e",
       "version_major": 2,
       "version_minor": 0
      },
      "text/plain": [
       "special_tokens_map.json:   0%|          | 0.00/239 [00:00<?, ?B/s]"
      ]
     },
     "metadata": {},
     "output_type": "display_data"
    },
    {
     "name": "stderr",
     "output_type": "stream",
     "text": [
      "Device set to use cuda:0\n",
      "Both `max_new_tokens` (=256) and `max_length`(=2048) seem to have been set. `max_new_tokens` will take precedence. Please refer to the documentation for more information. (https://huggingface.co/docs/transformers/main/en/main_classes/text_generation)\n"
     ]
    },
    {
     "name": "stdout",
     "output_type": "stream",
     "text": [
      "[{'generated_text': \"Let's do a comparison.\"}]\n"
     ]
    }
   ],
   "source": [
    "# 558MB Model\n",
    "# 66k+ downloads, actively used\n",
    "spelling_corrector = pipeline(\n",
    "    \"text2text-generation\", \n",
    "    model=\"oliverguhr/spelling-correction-english-base\"\n",
    ")\n",
    "\n",
    "result = spelling_corrector(\"lets do a comparsion\", max_length=2048)\n",
    "print(result)  # \"Let's do a comparison\"\n",
    "# TODO: Model complains I am setting max_new_tokens and the max_length are set"
   ]
  },
  {
   "cell_type": "code",
   "execution_count": null,
   "id": "d14290ad",
   "metadata": {},
   "outputs": [
    {
     "data": {
      "application/vnd.jupyter.widget-view+json": {
       "model_id": "e0b5fb4b21ab43b6b3de02bdbd39c391",
       "version_major": 2,
       "version_minor": 0
      },
      "text/plain": [
       "config.json: 0.00B [00:00, ?B/s]"
      ]
     },
     "metadata": {},
     "output_type": "display_data"
    },
    {
     "data": {
      "application/vnd.jupyter.widget-view+json": {
       "model_id": "40099686b65444a69e09bf750c4a3421",
       "version_major": 2,
       "version_minor": 0
      },
      "text/plain": [
       "pytorch_model.bin:   0%|          | 0.00/892M [00:00<?, ?B/s]"
      ]
     },
     "metadata": {},
     "output_type": "display_data"
    },
    {
     "data": {
      "application/vnd.jupyter.widget-view+json": {
       "model_id": "6d448784327648a1a8c646ccccfb8d2d",
       "version_major": 2,
       "version_minor": 0
      },
      "text/plain": [
       "model.safetensors:   0%|          | 0.00/892M [00:00<?, ?B/s]"
      ]
     },
     "metadata": {},
     "output_type": "display_data"
    },
    {
     "data": {
      "application/vnd.jupyter.widget-view+json": {
       "model_id": "19afea9ee9a244889b0b6097041e0810",
       "version_major": 2,
       "version_minor": 0
      },
      "text/plain": [
       "tokenizer_config.json: 0.00B [00:00, ?B/s]"
      ]
     },
     "metadata": {},
     "output_type": "display_data"
    },
    {
     "data": {
      "application/vnd.jupyter.widget-view+json": {
       "model_id": "b2ce737fa5ad4f63adfbb5cc759d658e",
       "version_major": 2,
       "version_minor": 0
      },
      "text/plain": [
       "spiece.model:   0%|          | 0.00/792k [00:00<?, ?B/s]"
      ]
     },
     "metadata": {},
     "output_type": "display_data"
    },
    {
     "data": {
      "application/vnd.jupyter.widget-view+json": {
       "model_id": "71ea0701ac804f5daf3bfc63d59de535",
       "version_major": 2,
       "version_minor": 0
      },
      "text/plain": [
       "tokenizer.json: 0.00B [00:00, ?B/s]"
      ]
     },
     "metadata": {},
     "output_type": "display_data"
    },
    {
     "data": {
      "application/vnd.jupyter.widget-view+json": {
       "model_id": "eb461a08b1394ee5adc95062f22e3ab5",
       "version_major": 2,
       "version_minor": 0
      },
      "text/plain": [
       "special_tokens_map.json: 0.00B [00:00, ?B/s]"
      ]
     },
     "metadata": {},
     "output_type": "display_data"
    },
    {
     "name": "stderr",
     "output_type": "stream",
     "text": [
      "Device set to use cuda:0\n"
     ]
    },
    {
     "name": "stdout",
     "output_type": "stream",
     "text": [
      "[{'generated_text': 'This sentence has bad grammar.'}]\n"
     ]
    }
   ],
   "source": [
    "# Model looks about 892MB\n",
    "grammar_corrector = pipeline(\n",
    "    task=\"text2text-generation\",\n",
    "    model=\"vennify/t5-base-grammar-correction\",\n",
    "    device='cuda'\n",
    ")\n",
    "\n",
    "# NOTE: Model requires \"grammar: \" prefix\n",
    "result = grammar_corrector(\"grammar: This sentences has has bads grammar.\")\n",
    "print(result)  # \"This sentence has bad grammar.\""
   ]
  },
  {
   "cell_type": "code",
   "execution_count": 6,
   "id": "02923dc4",
   "metadata": {},
   "outputs": [],
   "source": [
    "def norm_sm_post(text):\n",
    "    # correct spelling\n",
    "    corrected = spelling_corrector(text)[0].get(\"generated_text\")\n",
    "    assert corrected is not None\n",
    "    print(f\"Spelling: {corrected}\")\n",
    "\n",
    "    # fix grammar\n",
    "    result = grammar_corrector(f\"grammar: {corrected}\")[0].get(\"generated_text\")\n",
    "    assert result is not None\n",
    "    print(f\"Grammar: {result}\")\n",
    "\n",
    "    return result"
   ]
  },
  {
   "cell_type": "code",
   "execution_count": 9,
   "id": "8771bd7f",
   "metadata": {},
   "outputs": [
    {
     "name": "stdout",
     "output_type": "stream",
     "text": [
      "Fixing: {bad_post}\n",
      "Spelling: Some can't believe Trump said that she's desperate.\n",
      "Grammar: Some can't believe Trump said that she's desperate.\n"
     ]
    }
   ],
   "source": [
    "# Testing\n",
    "\n",
    "bad_posts = [\n",
    "    \"omg cant beleive trump said that smh 🤮\",\n",
    "]\n",
    "\n",
    "for bad_post in bad_posts:\n",
    "    print(\"Fixing: {bad_post}\")\n",
    "    norm_sm_post(bad_post)"
   ]
  },
  {
   "cell_type": "markdown",
   "id": "f5392608",
   "metadata": {},
   "source": [
    "https://www.interviewquery.com/p/social-media-datasets\n",
    "\n",
    "https://huggingface.co/datasets/Exorde/exorde-social-media-december-2024-week1\n",
    "L> this is very large dataset. \n",
    "\n",
    "```python\n",
    "from datasets import load_dataset\n",
    "\n",
    "ds = load_dataset(\"Exorde/exorde-social-media-december-2024-week1\")\n",
    "```\n",
    "\n",
    "Isn't that cool! Looks like 16GB of data though. \n",
    "It's from many sources and looks like it's themed based. "
   ]
  }
 ],
 "metadata": {
  "kernelspec": {
   "display_name": ".venv",
   "language": "python",
   "name": "python3"
  },
  "language_info": {
   "codemirror_mode": {
    "name": "ipython",
    "version": 3
   },
   "file_extension": ".py",
   "mimetype": "text/x-python",
   "name": "python",
   "nbconvert_exporter": "python",
   "pygments_lexer": "ipython3",
   "version": "3.11.13"
  }
 },
 "nbformat": 4,
 "nbformat_minor": 5
}
